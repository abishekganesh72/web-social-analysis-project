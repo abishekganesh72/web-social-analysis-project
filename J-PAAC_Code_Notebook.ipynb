{
 "cells": [
  {
   "cell_type": "markdown",
   "metadata": {},
   "source": [
    "## Web and Social Project Code\n",
    "\n",
    "using Python 2.7"
   ]
  },
  {
   "cell_type": "code",
   "execution_count": 64,
   "metadata": {
    "collapsed": true
   },
   "outputs": [],
   "source": [
    "%matplotlib inline\n",
    "import pandas as pd\n",
    "from collections import Counter\n",
    "import matplotlib.pyplot as plt\n",
    "import numpy as np\n",
    "import networkx as nx"
   ]
  },
  {
   "cell_type": "code",
   "execution_count": 65,
   "metadata": {
    "collapsed": true
   },
   "outputs": [],
   "source": [
    "data  = open(\"Data/msnbc990928.seq\")"
   ]
  },
  {
   "cell_type": "code",
   "execution_count": 66,
   "metadata": {
    "collapsed": true
   },
   "outputs": [],
   "source": [
    "lines = data.readlines()"
   ]
  },
  {
   "cell_type": "code",
   "execution_count": 67,
   "metadata": {},
   "outputs": [
    {
     "data": {
      "text/plain": [
       "['1 1 \\n',\n",
       " '2 \\n',\n",
       " '3 2 2 4 2 2 2 3 3 \\n',\n",
       " '5 \\n',\n",
       " '1 \\n',\n",
       " '6 \\n',\n",
       " '1 1 \\n',\n",
       " '6 \\n',\n",
       " '6 7 7 7 6 6 8 8 8 8 \\n',\n",
       " '6 9 4 4 4 10 3 10 5 10 4 4 4 \\n']"
      ]
     },
     "execution_count": 67,
     "metadata": {},
     "output_type": "execute_result"
    }
   ],
   "source": [
    "lines[:10]"
   ]
  },
  {
   "cell_type": "markdown",
   "metadata": {},
   "source": [
    "## Data"
   ]
  },
  {
   "cell_type": "code",
   "execution_count": 68,
   "metadata": {},
   "outputs": [
    {
     "data": {
      "text/plain": [
       "[['1', '1'],\n",
       " ['2'],\n",
       " ['3', '2', '2', '4', '2', '2', '2', '3', '3'],\n",
       " ['5'],\n",
       " ['1']]"
      ]
     },
     "execution_count": 68,
     "metadata": {},
     "output_type": "execute_result"
    }
   ],
   "source": [
    "data2 = [lin.strip().split() for lin in lines]\n",
    "data2[:5]    "
   ]
  },
  {
   "cell_type": "code",
   "execution_count": 69,
   "metadata": {},
   "outputs": [
    {
     "name": "stdout",
     "output_type": "stream",
     "text": [
      "[2, 1, 9, 1, 1]\n",
      "4\n"
     ]
    }
   ],
   "source": [
    "len_line=[len(lin) for lin in data2]\n",
    "print len_line[:5]\n",
    "print sum(len_line)/len(len_line)"
   ]
  },
  {
   "cell_type": "code",
   "execution_count": 70,
   "metadata": {
    "collapsed": true
   },
   "outputs": [],
   "source": [
    "pd.DataFrame(len_line).describe().to_csv(\"Orig_metrics.csv\")"
   ]
  },
  {
   "cell_type": "markdown",
   "metadata": {},
   "source": [
    "## Most Common Landing Page"
   ]
  },
  {
   "cell_type": "code",
   "execution_count": 71,
   "metadata": {},
   "outputs": [
    {
     "data": {
      "text/plain": [
       "['1', '2', '3', '5', '1', '6', '1', '6', '6', '6']"
      ]
     },
     "execution_count": 71,
     "metadata": {},
     "output_type": "execute_result"
    }
   ],
   "source": [
    "first_pages  =  [lin[0] for lin in data2]\n",
    "first_pages[:10]"
   ]
  },
  {
   "cell_type": "code",
   "execution_count": 72,
   "metadata": {},
   "outputs": [
    {
     "data": {
      "text/plain": [
       "[('1', 277376),\n",
       " ('6', 163077),\n",
       " ('2', 77138),\n",
       " ('8', 71828),\n",
       " ('3', 66554),\n",
       " ('9', 65278),\n",
       " ('13', 62986),\n",
       " ('12', 56742),\n",
       " ('14', 53639),\n",
       " ('4', 51040),\n",
       " ('11', 14275),\n",
       " ('10', 12790),\n",
       " ('15', 7377),\n",
       " ('5', 4226),\n",
       " ('7', 3557),\n",
       " ('17', 1509),\n",
       " ('16', 426)]"
      ]
     },
     "execution_count": 72,
     "metadata": {},
     "output_type": "execute_result"
    }
   ],
   "source": [
    "Counter(first_pages).most_common()"
   ]
  },
  {
   "cell_type": "code",
   "execution_count": 73,
   "metadata": {
    "collapsed": true
   },
   "outputs": [],
   "source": [
    "first_pages_dict = Counter(first_pages)"
   ]
  },
  {
   "cell_type": "markdown",
   "metadata": {},
   "source": [
    "## Scatter plot to show frequency of page when it is a landing page"
   ]
  },
  {
   "cell_type": "code",
   "execution_count": 74,
   "metadata": {},
   "outputs": [
    {
     "data": {
      "image/png": "[encoded data removed]",
      "text/plain": [
       "<matplotlib.figure.Figure at 0x1fe4a710>"
      ]
     },
     "metadata": {},
     "output_type": "display_data"
    }
   ],
   "source": [
    "plt.scatter(x = list(first_pages_dict.keys()), y=list(first_pages_dict.values()))\n",
    "plt.show()"
   ]
  },
  {
   "cell_type": "markdown",
   "metadata": {},
   "source": [
    "## Scatter plot to show frequency of page when it is an exit page"
   ]
  },
  {
   "cell_type": "code",
   "execution_count": 75,
   "metadata": {},
   "outputs": [
    {
     "data": {
      "text/plain": [
       "['1', '2', '3', '5', '1', '6', '1', '6', '8', '4']"
      ]
     },
     "execution_count": 75,
     "metadata": {},
     "output_type": "execute_result"
    }
   ],
   "source": [
    "last_pages  =  [lin[-1] for lin in data2]\n",
    "last_pages[:10]"
   ]
  },
  {
   "cell_type": "code",
   "execution_count": 76,
   "metadata": {},
   "outputs": [
    {
     "data": {
      "text/plain": [
       "[('1', 181521),\n",
       " ('6', 145726),\n",
       " ('2', 97694),\n",
       " ('14', 80697),\n",
       " ('3', 79857),\n",
       " ('8', 73116),\n",
       " ('4', 69541),\n",
       " ('12', 65778),\n",
       " ('13', 56236),\n",
       " ('9', 52655),\n",
       " ('10', 23121),\n",
       " ('11', 22485),\n",
       " ('5', 12626),\n",
       " ('7', 12582),\n",
       " ('15', 11740),\n",
       " ('17', 3401),\n",
       " ('16', 1042)]"
      ]
     },
     "execution_count": 76,
     "metadata": {},
     "output_type": "execute_result"
    }
   ],
   "source": [
    "Counter(last_pages).most_common()"
   ]
  },
  {
   "cell_type": "code",
   "execution_count": 77,
   "metadata": {
    "collapsed": true
   },
   "outputs": [],
   "source": [
    "last_pages_dict = Counter(last_pages)"
   ]
  },
  {
   "cell_type": "code",
   "execution_count": 78,
   "metadata": {},
   "outputs": [
    {
     "data": {
      "image/png": "[encoded data removed]",
      "text/plain": [
       "<matplotlib.figure.Figure at 0x6929208>"
      ]
     },
     "metadata": {},
     "output_type": "display_data"
    }
   ],
   "source": [
    "plt.scatter(x = list(last_pages_dict.keys()), y=list(last_pages_dict.values()))\n",
    "plt.show()"
   ]
  },
  {
   "cell_type": "code",
   "execution_count": 79,
   "metadata": {
    "collapsed": true
   },
   "outputs": [],
   "source": [
    "da = np.array(data2)"
   ]
  },
  {
   "cell_type": "markdown",
   "metadata": {},
   "source": [
    "## Max and Min No of Page Views"
   ]
  },
  {
   "cell_type": "code",
   "execution_count": 80,
   "metadata": {
    "collapsed": true
   },
   "outputs": [],
   "source": [
    "cnt = Counter(np.concatenate(da))"
   ]
  },
  {
   "cell_type": "code",
   "execution_count": 81,
   "metadata": {},
   "outputs": [
    {
     "data": {
      "text/plain": [
       "[('1', 940469),\n",
       " ('2', 452387),\n",
       " ('8', 439398),\n",
       " ('6', 414928),\n",
       " ('14', 395880),\n",
       " ('4', 386217),\n",
       " ('7', 305615),\n",
       " ('12', 264899),\n",
       " ('13', 216125),\n",
       " ('3', 207479),\n",
       " ('9', 196614),\n",
       " ('5', 151409),\n",
       " ('10', 131760),\n",
       " ('11', 96817),\n",
       " ('15', 56576),\n",
       " ('16', 25249),\n",
       " ('17', 16972)]"
      ]
     },
     "execution_count": 81,
     "metadata": {},
     "output_type": "execute_result"
    }
   ],
   "source": [
    "cnt.most_common()"
   ]
  },
  {
   "cell_type": "code",
   "execution_count": 82,
   "metadata": {},
   "outputs": [
    {
     "data": {
      "text/plain": [
       "['1',\n",
       " '10',\n",
       " '11',\n",
       " '12',\n",
       " '13',\n",
       " '14',\n",
       " '15',\n",
       " '16',\n",
       " '17',\n",
       " '2',\n",
       " '3',\n",
       " '4',\n",
       " '5',\n",
       " '6',\n",
       " '7',\n",
       " '8',\n",
       " '9']"
      ]
     },
     "execution_count": 82,
     "metadata": {},
     "output_type": "execute_result"
    }
   ],
   "source": [
    "sorted(Counter(np.concatenate(da)).keys())"
   ]
  },
  {
   "cell_type": "code",
   "execution_count": 83,
   "metadata": {},
   "outputs": [
    {
     "data": {
      "text/plain": [
       "(4698794L,)"
      ]
     },
     "execution_count": 83,
     "metadata": {},
     "output_type": "execute_result"
    }
   ],
   "source": [
    "np.concatenate(da).shape"
   ]
  },
  {
   "cell_type": "code",
   "execution_count": 84,
   "metadata": {
    "collapsed": true
   },
   "outputs": [],
   "source": [
    "pages = ['1','2', '3', '4', '5', '6','7', '8', '9', '10', \n",
    "         '11', '12', '13', '14', '15', '16', '17']"
   ]
  },
  {
   "cell_type": "markdown",
   "metadata": {},
   "source": [
    "## Exit Rate"
   ]
  },
  {
   "cell_type": "code",
   "execution_count": 85,
   "metadata": {},
   "outputs": [
    {
     "data": {
      "text/plain": [
       "{'1': 0.5796041266871235,\n",
       " '10': 0.4568825830929139,\n",
       " '11': 0.39038491588103547,\n",
       " '12': 0.5863455247229973,\n",
       " '13': 0.7308312106877372,\n",
       " '14': 0.6773405630445366,\n",
       " '15': 0.40205479452054793,\n",
       " '16': 0.5004803073967339,\n",
       " '17': 0.30901326549155006,\n",
       " '2': 0.5573405748319888,\n",
       " '3': 0.6548446878997606,\n",
       " '4': 0.5713241153805075,\n",
       " '5': 0.5053027574338657,\n",
       " '6': 0.6712359685123513,\n",
       " '7': 0.15627095908786048,\n",
       " '8': 0.7646917324687549,\n",
       " '9': 0.5838100940216427}"
      ]
     },
     "execution_count": 85,
     "metadata": {},
     "output_type": "execute_result"
    }
   ],
   "source": [
    "exit_rate={}\n",
    "for page in pages:\n",
    "    # Number of times a page appears in the sequence\n",
    "    page_true = len([lin for lin in data2 if page in lin ])\n",
    "    # Number of times a page is an exit page\n",
    "    exit_pages_no = len([lin for lin in data2 if page == lin[-1] ])\n",
    "    exit_rate[page] = exit_pages_no / (page_true*1.0)\n",
    "exit_rate"
   ]
  },
  {
   "cell_type": "code",
   "execution_count": 86,
   "metadata": {
    "collapsed": true
   },
   "outputs": [],
   "source": [
    "tab = pd.DataFrame()"
   ]
  },
  {
   "cell_type": "code",
   "execution_count": 87,
   "metadata": {},
   "outputs": [
    {
     "data": {
      "text/html": [
       "<div>\n",
       "<style>\n",
       "    .dataframe thead tr:only-child th {\n",
       "        text-align: right;\n",
       "    }\n",
       "\n",
       "    .dataframe thead th {\n",
       "        text-align: left;\n",
       "    }\n",
       "\n",
       "    .dataframe tbody tr th {\n",
       "        vertical-align: top;\n",
       "    }\n",
       "</style>\n",
       "<table border=\"1\" class=\"dataframe\">\n",
       "  <thead>\n",
       "    <tr style=\"text-align: right;\">\n",
       "      <th></th>\n",
       "      <th>pages</th>\n",
       "    </tr>\n",
       "  </thead>\n",
       "  <tbody>\n",
       "    <tr>\n",
       "      <th>0</th>\n",
       "      <td>1</td>\n",
       "    </tr>\n",
       "    <tr>\n",
       "      <th>1</th>\n",
       "      <td>10</td>\n",
       "    </tr>\n",
       "    <tr>\n",
       "      <th>2</th>\n",
       "      <td>11</td>\n",
       "    </tr>\n",
       "    <tr>\n",
       "      <th>3</th>\n",
       "      <td>12</td>\n",
       "    </tr>\n",
       "    <tr>\n",
       "      <th>4</th>\n",
       "      <td>13</td>\n",
       "    </tr>\n",
       "    <tr>\n",
       "      <th>5</th>\n",
       "      <td>14</td>\n",
       "    </tr>\n",
       "    <tr>\n",
       "      <th>6</th>\n",
       "      <td>15</td>\n",
       "    </tr>\n",
       "    <tr>\n",
       "      <th>7</th>\n",
       "      <td>16</td>\n",
       "    </tr>\n",
       "    <tr>\n",
       "      <th>8</th>\n",
       "      <td>17</td>\n",
       "    </tr>\n",
       "    <tr>\n",
       "      <th>9</th>\n",
       "      <td>2</td>\n",
       "    </tr>\n",
       "    <tr>\n",
       "      <th>10</th>\n",
       "      <td>3</td>\n",
       "    </tr>\n",
       "    <tr>\n",
       "      <th>11</th>\n",
       "      <td>4</td>\n",
       "    </tr>\n",
       "    <tr>\n",
       "      <th>12</th>\n",
       "      <td>5</td>\n",
       "    </tr>\n",
       "    <tr>\n",
       "      <th>13</th>\n",
       "      <td>6</td>\n",
       "    </tr>\n",
       "    <tr>\n",
       "      <th>14</th>\n",
       "      <td>7</td>\n",
       "    </tr>\n",
       "    <tr>\n",
       "      <th>15</th>\n",
       "      <td>8</td>\n",
       "    </tr>\n",
       "    <tr>\n",
       "      <th>16</th>\n",
       "      <td>9</td>\n",
       "    </tr>\n",
       "  </tbody>\n",
       "</table>\n",
       "</div>"
      ],
      "text/plain": [
       "   pages\n",
       "0      1\n",
       "1     10\n",
       "2     11\n",
       "3     12\n",
       "4     13\n",
       "5     14\n",
       "6     15\n",
       "7     16\n",
       "8     17\n",
       "9      2\n",
       "10     3\n",
       "11     4\n",
       "12     5\n",
       "13     6\n",
       "14     7\n",
       "15     8\n",
       "16     9"
      ]
     },
     "execution_count": 87,
     "metadata": {},
     "output_type": "execute_result"
    }
   ],
   "source": [
    "tab['pages'] = sorted(exit_rate.keys())\n",
    "tab"
   ]
  },
  {
   "cell_type": "code",
   "execution_count": 88,
   "metadata": {},
   "outputs": [
    {
     "data": {
      "text/html": [
       "<div>\n",
       "<style>\n",
       "    .dataframe thead tr:only-child th {\n",
       "        text-align: right;\n",
       "    }\n",
       "\n",
       "    .dataframe thead th {\n",
       "        text-align: left;\n",
       "    }\n",
       "\n",
       "    .dataframe tbody tr th {\n",
       "        vertical-align: top;\n",
       "    }\n",
       "</style>\n",
       "<table border=\"1\" class=\"dataframe\">\n",
       "  <thead>\n",
       "    <tr style=\"text-align: right;\">\n",
       "      <th></th>\n",
       "      <th>0</th>\n",
       "      <th>1</th>\n",
       "      <th>2</th>\n",
       "      <th>3</th>\n",
       "      <th>4</th>\n",
       "      <th>5</th>\n",
       "      <th>6</th>\n",
       "      <th>7</th>\n",
       "      <th>8</th>\n",
       "      <th>9</th>\n",
       "      <th>10</th>\n",
       "      <th>11</th>\n",
       "      <th>12</th>\n",
       "      <th>13</th>\n",
       "      <th>14</th>\n",
       "      <th>15</th>\n",
       "      <th>16</th>\n",
       "    </tr>\n",
       "  </thead>\n",
       "  <tbody>\n",
       "    <tr>\n",
       "      <th>pages</th>\n",
       "      <td>1</td>\n",
       "      <td>10</td>\n",
       "      <td>11</td>\n",
       "      <td>12</td>\n",
       "      <td>13</td>\n",
       "      <td>14</td>\n",
       "      <td>15</td>\n",
       "      <td>16</td>\n",
       "      <td>17</td>\n",
       "      <td>2</td>\n",
       "      <td>3</td>\n",
       "      <td>4</td>\n",
       "      <td>5</td>\n",
       "      <td>6</td>\n",
       "      <td>7</td>\n",
       "      <td>8</td>\n",
       "      <td>9</td>\n",
       "    </tr>\n",
       "    <tr>\n",
       "      <th>exit_rate</th>\n",
       "      <td>0.579604</td>\n",
       "      <td>0.456883</td>\n",
       "      <td>0.390385</td>\n",
       "      <td>0.586346</td>\n",
       "      <td>0.730831</td>\n",
       "      <td>0.677341</td>\n",
       "      <td>0.402055</td>\n",
       "      <td>0.50048</td>\n",
       "      <td>0.309013</td>\n",
       "      <td>0.557341</td>\n",
       "      <td>0.654845</td>\n",
       "      <td>0.571324</td>\n",
       "      <td>0.505303</td>\n",
       "      <td>0.671236</td>\n",
       "      <td>0.156271</td>\n",
       "      <td>0.764692</td>\n",
       "      <td>0.58381</td>\n",
       "    </tr>\n",
       "  </tbody>\n",
       "</table>\n",
       "</div>"
      ],
      "text/plain": [
       "                 0         1         2         3         4         5   \\\n",
       "pages             1        10        11        12        13        14   \n",
       "exit_rate  0.579604  0.456883  0.390385  0.586346  0.730831  0.677341   \n",
       "\n",
       "                 6        7         8         9         10        11  \\\n",
       "pages            15       16        17         2         3         4   \n",
       "exit_rate  0.402055  0.50048  0.309013  0.557341  0.654845  0.571324   \n",
       "\n",
       "                 12        13        14        15       16  \n",
       "pages             5         6         7         8        9  \n",
       "exit_rate  0.505303  0.671236  0.156271  0.764692  0.58381  "
      ]
     },
     "execution_count": 88,
     "metadata": {},
     "output_type": "execute_result"
    }
   ],
   "source": [
    "tab['exit_rate']=[exit_rate[i] for i in sorted(exit_rate.keys())]\n",
    "tab.T"
   ]
  },
  {
   "cell_type": "markdown",
   "metadata": {},
   "source": [
    "## Bounce Rate"
   ]
  },
  {
   "cell_type": "code",
   "execution_count": 89,
   "metadata": {},
   "outputs": [
    {
     "data": {
      "text/plain": [
       "{'1': 0.20748730964467005,\n",
       " '10': 0.453948397185301,\n",
       " '11': 0.49422066549912436,\n",
       " '12': 0.4495964188784322,\n",
       " '13': 0.29065189089638965,\n",
       " '14': 0.3778034638975372,\n",
       " '15': 0.36044462518639014,\n",
       " '16': 0.13615023474178403,\n",
       " '17': 0.46587143803843606,\n",
       " '2': 0.4656330213383806,\n",
       " '3': 0.6323286353938156,\n",
       " '4': 0.3860501567398119,\n",
       " '5': 0.22243256034074776,\n",
       " '6': 0.5629549231344703,\n",
       " '7': 0.04357604723081248,\n",
       " '8': 0.2358550982903603,\n",
       " '9': 0.3059530010110604}"
      ]
     },
     "execution_count": 89,
     "metadata": {},
     "output_type": "execute_result"
    }
   ],
   "source": [
    "bounce_rate={}\n",
    "for page in pages:\n",
    "    # Number of times a page is bounced\n",
    "    bounce_pages_no = len([lin for lin in data2 if len(lin)==1 and lin[0] == page])\n",
    "    # Number of times a page is a potential bounce\n",
    "    page_b_true = len([lin for lin in data2 if lin[0]==page])\n",
    "    bounce_rate[page] = bounce_pages_no / (page_b_true*1.0)\n",
    "bounce_rate"
   ]
  },
  {
   "cell_type": "code",
   "execution_count": 90,
   "metadata": {
    "collapsed": true
   },
   "outputs": [],
   "source": [
    "tab['bounce_rate']=[bounce_rate[i] for i in sorted(bounce_rate.keys())]"
   ]
  },
  {
   "cell_type": "code",
   "execution_count": 91,
   "metadata": {
    "collapsed": true
   },
   "outputs": [],
   "source": [
    "tab['page_counts']=[cnt[i] for i in sorted(cnt.keys())]"
   ]
  },
  {
   "cell_type": "code",
   "execution_count": 92,
   "metadata": {},
   "outputs": [
    {
     "data": {
      "text/html": [
       "<div>\n",
       "<style>\n",
       "    .dataframe thead tr:only-child th {\n",
       "        text-align: right;\n",
       "    }\n",
       "\n",
       "    .dataframe thead th {\n",
       "        text-align: left;\n",
       "    }\n",
       "\n",
       "    .dataframe tbody tr th {\n",
       "        vertical-align: top;\n",
       "    }\n",
       "</style>\n",
       "<table border=\"1\" class=\"dataframe\">\n",
       "  <thead>\n",
       "    <tr style=\"text-align: right;\">\n",
       "      <th>pages</th>\n",
       "      <th>1</th>\n",
       "      <th>10</th>\n",
       "      <th>11</th>\n",
       "      <th>12</th>\n",
       "      <th>13</th>\n",
       "      <th>14</th>\n",
       "      <th>15</th>\n",
       "      <th>16</th>\n",
       "      <th>17</th>\n",
       "      <th>2</th>\n",
       "      <th>3</th>\n",
       "      <th>4</th>\n",
       "      <th>5</th>\n",
       "      <th>6</th>\n",
       "      <th>7</th>\n",
       "      <th>8</th>\n",
       "      <th>9</th>\n",
       "    </tr>\n",
       "  </thead>\n",
       "  <tbody>\n",
       "    <tr>\n",
       "      <th>count</th>\n",
       "      <td>3.000000</td>\n",
       "      <td>3.000000</td>\n",
       "      <td>3.000000</td>\n",
       "      <td>3.000000</td>\n",
       "      <td>3.000000</td>\n",
       "      <td>3.000000</td>\n",
       "      <td>3.000000</td>\n",
       "      <td>3.000000</td>\n",
       "      <td>3.000000</td>\n",
       "      <td>3.000000</td>\n",
       "      <td>3.000000</td>\n",
       "      <td>3.000000</td>\n",
       "      <td>3.000000</td>\n",
       "      <td>3.000000</td>\n",
       "      <td>3.000000</td>\n",
       "      <td>3.000000</td>\n",
       "      <td>3.000000</td>\n",
       "    </tr>\n",
       "    <tr>\n",
       "      <th>mean</th>\n",
       "      <td>313489.929030</td>\n",
       "      <td>43920.303610</td>\n",
       "      <td>32272.628202</td>\n",
       "      <td>88300.011981</td>\n",
       "      <td>72042.007161</td>\n",
       "      <td>131960.351715</td>\n",
       "      <td>18858.920833</td>\n",
       "      <td>8416.545544</td>\n",
       "      <td>5657.591628</td>\n",
       "      <td>150796.007658</td>\n",
       "      <td>69160.095724</td>\n",
       "      <td>128739.319125</td>\n",
       "      <td>50469.909245</td>\n",
       "      <td>138309.744730</td>\n",
       "      <td>101871.733282</td>\n",
       "      <td>146466.333516</td>\n",
       "      <td>65538.296588</td>\n",
       "    </tr>\n",
       "    <tr>\n",
       "      <th>std</th>\n",
       "      <td>542979.803101</td>\n",
       "      <td>76071.408534</td>\n",
       "      <td>55897.065649</td>\n",
       "      <td>152939.209907</td>\n",
       "      <td>124779.532052</td>\n",
       "      <td>228561.119973</td>\n",
       "      <td>32663.948715</td>\n",
       "      <td>14577.333168</td>\n",
       "      <td>9798.565079</td>\n",
       "      <td>261185.460921</td>\n",
       "      <td>119787.684926</td>\n",
       "      <td>222982.212545</td>\n",
       "      <td>87415.816829</td>\n",
       "      <td>239558.436214</td>\n",
       "      <td>176446.844828</td>\n",
       "      <td>253686.264749</td>\n",
       "      <td>113514.888974</td>\n",
       "    </tr>\n",
       "    <tr>\n",
       "      <th>min</th>\n",
       "      <td>0.207487</td>\n",
       "      <td>0.453948</td>\n",
       "      <td>0.390385</td>\n",
       "      <td>0.449596</td>\n",
       "      <td>0.290652</td>\n",
       "      <td>0.377803</td>\n",
       "      <td>0.360445</td>\n",
       "      <td>0.136150</td>\n",
       "      <td>0.309013</td>\n",
       "      <td>0.465633</td>\n",
       "      <td>0.632329</td>\n",
       "      <td>0.386050</td>\n",
       "      <td>0.222433</td>\n",
       "      <td>0.562955</td>\n",
       "      <td>0.043576</td>\n",
       "      <td>0.235855</td>\n",
       "      <td>0.305953</td>\n",
       "    </tr>\n",
       "    <tr>\n",
       "      <th>25%</th>\n",
       "      <td>0.393546</td>\n",
       "      <td>0.455415</td>\n",
       "      <td>0.442303</td>\n",
       "      <td>0.517971</td>\n",
       "      <td>0.510742</td>\n",
       "      <td>0.527572</td>\n",
       "      <td>0.381250</td>\n",
       "      <td>0.318315</td>\n",
       "      <td>0.387442</td>\n",
       "      <td>0.511487</td>\n",
       "      <td>0.643587</td>\n",
       "      <td>0.478687</td>\n",
       "      <td>0.363868</td>\n",
       "      <td>0.617095</td>\n",
       "      <td>0.099924</td>\n",
       "      <td>0.500273</td>\n",
       "      <td>0.444882</td>\n",
       "    </tr>\n",
       "    <tr>\n",
       "      <th>50%</th>\n",
       "      <td>0.579604</td>\n",
       "      <td>0.456883</td>\n",
       "      <td>0.494221</td>\n",
       "      <td>0.586346</td>\n",
       "      <td>0.730831</td>\n",
       "      <td>0.677341</td>\n",
       "      <td>0.402055</td>\n",
       "      <td>0.500480</td>\n",
       "      <td>0.465871</td>\n",
       "      <td>0.557341</td>\n",
       "      <td>0.654845</td>\n",
       "      <td>0.571324</td>\n",
       "      <td>0.505303</td>\n",
       "      <td>0.671236</td>\n",
       "      <td>0.156271</td>\n",
       "      <td>0.764692</td>\n",
       "      <td>0.583810</td>\n",
       "    </tr>\n",
       "    <tr>\n",
       "      <th>75%</th>\n",
       "      <td>470234.789802</td>\n",
       "      <td>65880.228441</td>\n",
       "      <td>48408.747110</td>\n",
       "      <td>132449.793173</td>\n",
       "      <td>108062.865416</td>\n",
       "      <td>197940.338670</td>\n",
       "      <td>28288.201027</td>\n",
       "      <td>12624.750240</td>\n",
       "      <td>8486.232936</td>\n",
       "      <td>226193.778670</td>\n",
       "      <td>103739.827422</td>\n",
       "      <td>193108.785662</td>\n",
       "      <td>75704.752651</td>\n",
       "      <td>207464.335618</td>\n",
       "      <td>152807.578135</td>\n",
       "      <td>219699.382346</td>\n",
       "      <td>98307.291905</td>\n",
       "    </tr>\n",
       "    <tr>\n",
       "      <th>max</th>\n",
       "      <td>940469.000000</td>\n",
       "      <td>131760.000000</td>\n",
       "      <td>96817.000000</td>\n",
       "      <td>264899.000000</td>\n",
       "      <td>216125.000000</td>\n",
       "      <td>395880.000000</td>\n",
       "      <td>56576.000000</td>\n",
       "      <td>25249.000000</td>\n",
       "      <td>16972.000000</td>\n",
       "      <td>452387.000000</td>\n",
       "      <td>207479.000000</td>\n",
       "      <td>386217.000000</td>\n",
       "      <td>151409.000000</td>\n",
       "      <td>414928.000000</td>\n",
       "      <td>305615.000000</td>\n",
       "      <td>439398.000000</td>\n",
       "      <td>196614.000000</td>\n",
       "    </tr>\n",
       "  </tbody>\n",
       "</table>\n",
       "</div>"
      ],
      "text/plain": [
       "pages              1             10            11             12  \\\n",
       "count       3.000000       3.000000      3.000000       3.000000   \n",
       "mean   313489.929030   43920.303610  32272.628202   88300.011981   \n",
       "std    542979.803101   76071.408534  55897.065649  152939.209907   \n",
       "min         0.207487       0.453948      0.390385       0.449596   \n",
       "25%         0.393546       0.455415      0.442303       0.517971   \n",
       "50%         0.579604       0.456883      0.494221       0.586346   \n",
       "75%    470234.789802   65880.228441  48408.747110  132449.793173   \n",
       "max    940469.000000  131760.000000  96817.000000  264899.000000   \n",
       "\n",
       "pages             13             14            15            16            17  \\\n",
       "count       3.000000       3.000000      3.000000      3.000000      3.000000   \n",
       "mean    72042.007161  131960.351715  18858.920833   8416.545544   5657.591628   \n",
       "std    124779.532052  228561.119973  32663.948715  14577.333168   9798.565079   \n",
       "min         0.290652       0.377803      0.360445      0.136150      0.309013   \n",
       "25%         0.510742       0.527572      0.381250      0.318315      0.387442   \n",
       "50%         0.730831       0.677341      0.402055      0.500480      0.465871   \n",
       "75%    108062.865416  197940.338670  28288.201027  12624.750240   8486.232936   \n",
       "max    216125.000000  395880.000000  56576.000000  25249.000000  16972.000000   \n",
       "\n",
       "pages              2              3              4              5  \\\n",
       "count       3.000000       3.000000       3.000000       3.000000   \n",
       "mean   150796.007658   69160.095724  128739.319125   50469.909245   \n",
       "std    261185.460921  119787.684926  222982.212545   87415.816829   \n",
       "min         0.465633       0.632329       0.386050       0.222433   \n",
       "25%         0.511487       0.643587       0.478687       0.363868   \n",
       "50%         0.557341       0.654845       0.571324       0.505303   \n",
       "75%    226193.778670  103739.827422  193108.785662   75704.752651   \n",
       "max    452387.000000  207479.000000  386217.000000  151409.000000   \n",
       "\n",
       "pages              6              7              8              9  \n",
       "count       3.000000       3.000000       3.000000       3.000000  \n",
       "mean   138309.744730  101871.733282  146466.333516   65538.296588  \n",
       "std    239558.436214  176446.844828  253686.264749  113514.888974  \n",
       "min         0.562955       0.043576       0.235855       0.305953  \n",
       "25%         0.617095       0.099924       0.500273       0.444882  \n",
       "50%         0.671236       0.156271       0.764692       0.583810  \n",
       "75%    207464.335618  152807.578135  219699.382346   98307.291905  \n",
       "max    414928.000000  305615.000000  439398.000000  196614.000000  "
      ]
     },
     "execution_count": 92,
     "metadata": {},
     "output_type": "execute_result"
    }
   ],
   "source": [
    "tab.set_index('pages').T.describe()"
   ]
  },
  {
   "cell_type": "code",
   "execution_count": 93,
   "metadata": {
    "collapsed": true
   },
   "outputs": [],
   "source": [
    "tab.to_csv(\"metrics.csv\")\n",
    "tab.set_index('pages').T.describe().to_csv(\"metrics_desc.csv\")"
   ]
  },
  {
   "cell_type": "code",
   "execution_count": 94,
   "metadata": {},
   "outputs": [
    {
     "data": {
      "text/html": [
       "<div>\n",
       "<style>\n",
       "    .dataframe thead tr:only-child th {\n",
       "        text-align: right;\n",
       "    }\n",
       "\n",
       "    .dataframe thead th {\n",
       "        text-align: left;\n",
       "    }\n",
       "\n",
       "    .dataframe tbody tr th {\n",
       "        vertical-align: top;\n",
       "    }\n",
       "</style>\n",
       "<table border=\"1\" class=\"dataframe\">\n",
       "  <thead>\n",
       "    <tr style=\"text-align: right;\">\n",
       "      <th>pages</th>\n",
       "      <th>1</th>\n",
       "      <th>10</th>\n",
       "      <th>11</th>\n",
       "      <th>12</th>\n",
       "      <th>13</th>\n",
       "      <th>14</th>\n",
       "      <th>15</th>\n",
       "      <th>16</th>\n",
       "      <th>17</th>\n",
       "      <th>2</th>\n",
       "      <th>3</th>\n",
       "      <th>4</th>\n",
       "      <th>5</th>\n",
       "      <th>6</th>\n",
       "      <th>7</th>\n",
       "      <th>8</th>\n",
       "      <th>9</th>\n",
       "    </tr>\n",
       "  </thead>\n",
       "  <tbody>\n",
       "    <tr>\n",
       "      <th>exit_rate</th>\n",
       "      <td>0.579604</td>\n",
       "      <td>0.456883</td>\n",
       "      <td>0.390385</td>\n",
       "      <td>0.586346</td>\n",
       "      <td>0.730831</td>\n",
       "      <td>0.677341</td>\n",
       "      <td>0.402055</td>\n",
       "      <td>0.50048</td>\n",
       "      <td>0.309013</td>\n",
       "      <td>0.557341</td>\n",
       "      <td>0.654845</td>\n",
       "      <td>0.571324</td>\n",
       "      <td>0.505303</td>\n",
       "      <td>0.671236</td>\n",
       "      <td>0.156271</td>\n",
       "      <td>0.764692</td>\n",
       "      <td>0.583810</td>\n",
       "    </tr>\n",
       "    <tr>\n",
       "      <th>bounce_rate</th>\n",
       "      <td>0.207487</td>\n",
       "      <td>0.453948</td>\n",
       "      <td>0.494221</td>\n",
       "      <td>0.449596</td>\n",
       "      <td>0.290652</td>\n",
       "      <td>0.377803</td>\n",
       "      <td>0.360445</td>\n",
       "      <td>0.13615</td>\n",
       "      <td>0.465871</td>\n",
       "      <td>0.465633</td>\n",
       "      <td>0.632329</td>\n",
       "      <td>0.386050</td>\n",
       "      <td>0.222433</td>\n",
       "      <td>0.562955</td>\n",
       "      <td>0.043576</td>\n",
       "      <td>0.235855</td>\n",
       "      <td>0.305953</td>\n",
       "    </tr>\n",
       "    <tr>\n",
       "      <th>page_counts</th>\n",
       "      <td>940469.000000</td>\n",
       "      <td>131760.000000</td>\n",
       "      <td>96817.000000</td>\n",
       "      <td>264899.000000</td>\n",
       "      <td>216125.000000</td>\n",
       "      <td>395880.000000</td>\n",
       "      <td>56576.000000</td>\n",
       "      <td>25249.00000</td>\n",
       "      <td>16972.000000</td>\n",
       "      <td>452387.000000</td>\n",
       "      <td>207479.000000</td>\n",
       "      <td>386217.000000</td>\n",
       "      <td>151409.000000</td>\n",
       "      <td>414928.000000</td>\n",
       "      <td>305615.000000</td>\n",
       "      <td>439398.000000</td>\n",
       "      <td>196614.000000</td>\n",
       "    </tr>\n",
       "  </tbody>\n",
       "</table>\n",
       "</div>"
      ],
      "text/plain": [
       "pages                    1             10            11             12  \\\n",
       "exit_rate         0.579604       0.456883      0.390385       0.586346   \n",
       "bounce_rate       0.207487       0.453948      0.494221       0.449596   \n",
       "page_counts  940469.000000  131760.000000  96817.000000  264899.000000   \n",
       "\n",
       "pages                   13             14            15           16  \\\n",
       "exit_rate         0.730831       0.677341      0.402055      0.50048   \n",
       "bounce_rate       0.290652       0.377803      0.360445      0.13615   \n",
       "page_counts  216125.000000  395880.000000  56576.000000  25249.00000   \n",
       "\n",
       "pages                  17              2              3              4  \\\n",
       "exit_rate        0.309013       0.557341       0.654845       0.571324   \n",
       "bounce_rate      0.465871       0.465633       0.632329       0.386050   \n",
       "page_counts  16972.000000  452387.000000  207479.000000  386217.000000   \n",
       "\n",
       "pages                    5              6              7              8  \\\n",
       "exit_rate         0.505303       0.671236       0.156271       0.764692   \n",
       "bounce_rate       0.222433       0.562955       0.043576       0.235855   \n",
       "page_counts  151409.000000  414928.000000  305615.000000  439398.000000   \n",
       "\n",
       "pages                    9  \n",
       "exit_rate         0.583810  \n",
       "bounce_rate       0.305953  \n",
       "page_counts  196614.000000  "
      ]
     },
     "execution_count": 94,
     "metadata": {},
     "output_type": "execute_result"
    }
   ],
   "source": [
    "tab.set_index('pages').T"
   ]
  },
  {
   "cell_type": "code",
   "execution_count": 95,
   "metadata": {},
   "outputs": [
    {
     "data": {
      "text/html": [
       "<div>\n",
       "<style>\n",
       "    .dataframe thead tr:only-child th {\n",
       "        text-align: right;\n",
       "    }\n",
       "\n",
       "    .dataframe thead th {\n",
       "        text-align: left;\n",
       "    }\n",
       "\n",
       "    .dataframe tbody tr th {\n",
       "        vertical-align: top;\n",
       "    }\n",
       "</style>\n",
       "<table border=\"1\" class=\"dataframe\">\n",
       "  <thead>\n",
       "    <tr style=\"text-align: right;\">\n",
       "      <th></th>\n",
       "      <th>0</th>\n",
       "      <th>1</th>\n",
       "      <th>2</th>\n",
       "      <th>3</th>\n",
       "      <th>4</th>\n",
       "      <th>5</th>\n",
       "      <th>6</th>\n",
       "      <th>7</th>\n",
       "      <th>8</th>\n",
       "      <th>9</th>\n",
       "      <th>10</th>\n",
       "      <th>11</th>\n",
       "      <th>12</th>\n",
       "      <th>13</th>\n",
       "      <th>14</th>\n",
       "      <th>15</th>\n",
       "      <th>16</th>\n",
       "    </tr>\n",
       "  </thead>\n",
       "  <tbody>\n",
       "    <tr>\n",
       "      <th>pages</th>\n",
       "      <td>1</td>\n",
       "      <td>10</td>\n",
       "      <td>11</td>\n",
       "      <td>12</td>\n",
       "      <td>13</td>\n",
       "      <td>14</td>\n",
       "      <td>15</td>\n",
       "      <td>16</td>\n",
       "      <td>17</td>\n",
       "      <td>2</td>\n",
       "      <td>3</td>\n",
       "      <td>4</td>\n",
       "      <td>5</td>\n",
       "      <td>6</td>\n",
       "      <td>7</td>\n",
       "      <td>8</td>\n",
       "      <td>9</td>\n",
       "    </tr>\n",
       "    <tr>\n",
       "      <th>exit_rate</th>\n",
       "      <td>0.579604</td>\n",
       "      <td>0.456883</td>\n",
       "      <td>0.390385</td>\n",
       "      <td>0.586346</td>\n",
       "      <td>0.730831</td>\n",
       "      <td>0.677341</td>\n",
       "      <td>0.402055</td>\n",
       "      <td>0.50048</td>\n",
       "      <td>0.309013</td>\n",
       "      <td>0.557341</td>\n",
       "      <td>0.654845</td>\n",
       "      <td>0.571324</td>\n",
       "      <td>0.505303</td>\n",
       "      <td>0.671236</td>\n",
       "      <td>0.156271</td>\n",
       "      <td>0.764692</td>\n",
       "      <td>0.58381</td>\n",
       "    </tr>\n",
       "    <tr>\n",
       "      <th>bounce_rate</th>\n",
       "      <td>0.207487</td>\n",
       "      <td>0.453948</td>\n",
       "      <td>0.494221</td>\n",
       "      <td>0.449596</td>\n",
       "      <td>0.290652</td>\n",
       "      <td>0.377803</td>\n",
       "      <td>0.360445</td>\n",
       "      <td>0.13615</td>\n",
       "      <td>0.465871</td>\n",
       "      <td>0.465633</td>\n",
       "      <td>0.632329</td>\n",
       "      <td>0.38605</td>\n",
       "      <td>0.222433</td>\n",
       "      <td>0.562955</td>\n",
       "      <td>0.043576</td>\n",
       "      <td>0.235855</td>\n",
       "      <td>0.305953</td>\n",
       "    </tr>\n",
       "    <tr>\n",
       "      <th>page_counts</th>\n",
       "      <td>940469</td>\n",
       "      <td>131760</td>\n",
       "      <td>96817</td>\n",
       "      <td>264899</td>\n",
       "      <td>216125</td>\n",
       "      <td>395880</td>\n",
       "      <td>56576</td>\n",
       "      <td>25249</td>\n",
       "      <td>16972</td>\n",
       "      <td>452387</td>\n",
       "      <td>207479</td>\n",
       "      <td>386217</td>\n",
       "      <td>151409</td>\n",
       "      <td>414928</td>\n",
       "      <td>305615</td>\n",
       "      <td>439398</td>\n",
       "      <td>196614</td>\n",
       "    </tr>\n",
       "  </tbody>\n",
       "</table>\n",
       "</div>"
      ],
      "text/plain": [
       "                   0         1         2         3         4         5   \\\n",
       "pages               1        10        11        12        13        14   \n",
       "exit_rate    0.579604  0.456883  0.390385  0.586346  0.730831  0.677341   \n",
       "bounce_rate  0.207487  0.453948  0.494221  0.449596  0.290652  0.377803   \n",
       "page_counts    940469    131760     96817    264899    216125    395880   \n",
       "\n",
       "                   6        7         8         9         10        11  \\\n",
       "pages              15       16        17         2         3         4   \n",
       "exit_rate    0.402055  0.50048  0.309013  0.557341  0.654845  0.571324   \n",
       "bounce_rate  0.360445  0.13615  0.465871  0.465633  0.632329   0.38605   \n",
       "page_counts     56576    25249     16972    452387    207479    386217   \n",
       "\n",
       "                   12        13        14        15        16  \n",
       "pages               5         6         7         8         9  \n",
       "exit_rate    0.505303  0.671236  0.156271  0.764692   0.58381  \n",
       "bounce_rate  0.222433  0.562955  0.043576  0.235855  0.305953  \n",
       "page_counts    151409    414928    305615    439398    196614  "
      ]
     },
     "execution_count": 95,
     "metadata": {},
     "output_type": "execute_result"
    }
   ],
   "source": [
    "tab.T"
   ]
  },
  {
   "cell_type": "markdown",
   "metadata": {},
   "source": [
    "## Incidence Matrix Code"
   ]
  },
  {
   "cell_type": "code",
   "execution_count": 96,
   "metadata": {
    "collapsed": true
   },
   "outputs": [],
   "source": [
    "incidence_matrix= np.zeros((len(pages), len(pages)))"
   ]
  },
  {
   "cell_type": "markdown",
   "metadata": {},
   "source": [
    "## Pages Name"
   ]
  },
  {
   "cell_type": "code",
   "execution_count": 97,
   "metadata": {},
   "outputs": [
    {
     "data": {
      "text/plain": [
       "(['frontpage',\n",
       "  'news',\n",
       "  'tech',\n",
       "  'local',\n",
       "  'opinion',\n",
       "  'on-air',\n",
       "  'misc',\n",
       "  'weather',\n",
       "  'msn-news',\n",
       "  'health',\n",
       "  'living',\n",
       "  'business',\n",
       "  'msn-sports',\n",
       "  'sports',\n",
       "  'summary',\n",
       "  'bbs',\n",
       "  'travel'],\n",
       " 17)"
      ]
     },
     "execution_count": 97,
     "metadata": {},
     "output_type": "execute_result"
    }
   ],
   "source": [
    "pages_name = \"frontpage news tech local opinion on-air misc weather msn-news health living business msn-sports sports summary bbs travel\".split()\n",
    "pages_name, len(pages_name)"
   ]
  },
  {
   "cell_type": "markdown",
   "metadata": {},
   "source": [
    "## Mapping Pages and Page Names"
   ]
  },
  {
   "cell_type": "code",
   "execution_count": 98,
   "metadata": {},
   "outputs": [
    {
     "data": {
      "text/plain": [
       "{'1': 0,\n",
       " '10': 9,\n",
       " '11': 10,\n",
       " '12': 11,\n",
       " '13': 12,\n",
       " '14': 13,\n",
       " '15': 14,\n",
       " '16': 15,\n",
       " '17': 16,\n",
       " '2': 1,\n",
       " '3': 2,\n",
       " '4': 3,\n",
       " '5': 4,\n",
       " '6': 5,\n",
       " '7': 6,\n",
       " '8': 7,\n",
       " '9': 8}"
      ]
     },
     "execution_count": 98,
     "metadata": {},
     "output_type": "execute_result"
    }
   ],
   "source": [
    "mapping = dict(zip(pages, range(len(pages))))\n",
    "mapping"
   ]
  },
  {
   "cell_type": "code",
   "execution_count": 99,
   "metadata": {
    "collapsed": true
   },
   "outputs": [],
   "source": [
    " map_df = pd.DataFrame([i for i in sorted(mapping.values())])"
   ]
  },
  {
   "cell_type": "code",
   "execution_count": 100,
   "metadata": {
    "collapsed": true
   },
   "outputs": [],
   "source": [
    "mapping_original = dict((zip(range(len(pages_name)), pages_name)))\n",
    "mapping_original\n",
    "map_df['pages']=[mapping_original[i] for i in sorted(mapping_original.keys())]\n",
    "map_df.to_csv(\"mappings.csv\")"
   ]
  },
  {
   "cell_type": "markdown",
   "metadata": {},
   "source": [
    "## Create an incidence matrix based on co-occurrence"
   ]
  },
  {
   "cell_type": "code",
   "execution_count": 101,
   "metadata": {},
   "outputs": [
    {
     "name": "stdout",
     "output_type": "stream",
     "text": [
      "(17L, 17L)\n"
     ]
    }
   ],
   "source": [
    "incidence_matrix= np.zeros((len(pages), len(pages)))\n",
    "\n",
    "for line in data2:  # For Each seq in the file\n",
    "    length = len(line)\n",
    "    if length>=2:\n",
    "        #print line\n",
    "        for i in range(length-1):  # for each element in the file \n",
    "            tmp = (line[i], line[i+1])\n",
    "            incidence_matrix[mapping[tmp[0]], mapping[tmp[1]]]+=1\n",
    "                        #print k, j , tmp\n",
    "\n",
    "print(incidence_matrix.shape)"
   ]
  },
  {
   "cell_type": "code",
   "execution_count": 102,
   "metadata": {},
   "outputs": [
    {
     "data": {
      "text/plain": [
       "(12833.826989619378, 2.0, 418764.0)"
      ]
     },
     "execution_count": 102,
     "metadata": {},
     "output_type": "execute_result"
    }
   ],
   "source": [
    "incidence_matrix.mean(), incidence_matrix.min(), incidence_matrix.max()"
   ]
  },
  {
   "cell_type": "code",
   "execution_count": 103,
   "metadata": {},
   "outputs": [
    {
     "data": {
      "text/plain": [
       "(17L, 17L)"
      ]
     },
     "execution_count": 103,
     "metadata": {},
     "output_type": "execute_result"
    }
   ],
   "source": [
    "incidence_matrix.shape"
   ]
  },
  {
   "cell_type": "code",
   "execution_count": 104,
   "metadata": {},
   "outputs": [
    {
     "data": {
      "text/plain": [
       "(17L, 17L)"
      ]
     },
     "execution_count": 104,
     "metadata": {},
     "output_type": "execute_result"
    }
   ],
   "source": [
    "matrix2 = incidence_matrix >= incidence_matrix.mean() \n",
    "matrix2.shape"
   ]
  },
  {
   "cell_type": "code",
   "execution_count": 105,
   "metadata": {
    "collapsed": true
   },
   "outputs": [],
   "source": [
    "G = nx.from_numpy_matrix(incidence_matrix)"
   ]
  },
  {
   "cell_type": "code",
   "execution_count": 106,
   "metadata": {},
   "outputs": [
    {
     "data": {
      "text/plain": [
       "'Name: \\nType: Graph\\nNumber of nodes: 17\\nNumber of edges: 153\\nAverage degree:  18.0000'"
      ]
     },
     "execution_count": 106,
     "metadata": {},
     "output_type": "execute_result"
    }
   ],
   "source": [
    "nx.info(G)"
   ]
  },
  {
   "cell_type": "code",
   "execution_count": 107,
   "metadata": {
    "collapsed": true
   },
   "outputs": [],
   "source": [
    "G = nx.relabel_nodes(G, mapping_original)"
   ]
  },
  {
   "cell_type": "code",
   "execution_count": 108,
   "metadata": {},
   "outputs": [
    {
     "data": {
      "text/plain": [
       "networkx.classes.graph.Graph"
      ]
     },
     "execution_count": 108,
     "metadata": {},
     "output_type": "execute_result"
    }
   ],
   "source": [
    "type(G)"
   ]
  },
  {
   "cell_type": "code",
   "execution_count": 109,
   "metadata": {},
   "outputs": [
    {
     "data": {
      "text/plain": [
       "False"
      ]
     },
     "execution_count": 109,
     "metadata": {},
     "output_type": "execute_result"
    }
   ],
   "source": [
    "G.is_directed()"
   ]
  },
  {
   "cell_type": "code",
   "execution_count": 110,
   "metadata": {},
   "outputs": [
    {
     "data": {
      "text/plain": [
       "{'bbs': 18,\n",
       " 'business': 18,\n",
       " 'frontpage': 18,\n",
       " 'health': 18,\n",
       " 'living': 18,\n",
       " 'local': 18,\n",
       " 'misc': 18,\n",
       " 'msn-news': 18,\n",
       " 'msn-sports': 18,\n",
       " 'news': 18,\n",
       " 'on-air': 18,\n",
       " 'opinion': 18,\n",
       " 'sports': 18,\n",
       " 'summary': 18,\n",
       " 'tech': 18,\n",
       " 'travel': 18,\n",
       " 'weather': 18}"
      ]
     },
     "execution_count": 110,
     "metadata": {},
     "output_type": "execute_result"
    }
   ],
   "source": [
    "G.degree()"
   ]
  },
  {
   "cell_type": "code",
   "execution_count": 111,
   "metadata": {},
   "outputs": [
    {
     "data": {
      "text/plain": [
       "{'bbs': 1.125,\n",
       " 'business': 1.125,\n",
       " 'frontpage': 1.125,\n",
       " 'health': 1.125,\n",
       " 'living': 1.125,\n",
       " 'local': 1.125,\n",
       " 'misc': 1.125,\n",
       " 'msn-news': 1.125,\n",
       " 'msn-sports': 1.125,\n",
       " 'news': 1.125,\n",
       " 'on-air': 1.125,\n",
       " 'opinion': 1.125,\n",
       " 'sports': 1.125,\n",
       " 'summary': 1.125,\n",
       " 'tech': 1.125,\n",
       " 'travel': 1.125,\n",
       " 'weather': 1.125}"
      ]
     },
     "execution_count": 111,
     "metadata": {},
     "output_type": "execute_result"
    }
   ],
   "source": [
    "nx.degree_centrality(G)"
   ]
  },
  {
   "cell_type": "code",
   "execution_count": 112,
   "metadata": {},
   "outputs": [
    {
     "data": {
      "text/plain": [
       "{'bbs': 0.0,\n",
       " 'business': 0.0,\n",
       " 'frontpage': 0.0,\n",
       " 'health': 0.0,\n",
       " 'living': 0.0,\n",
       " 'local': 0.0,\n",
       " 'misc': 0.0,\n",
       " 'msn-news': 0.0,\n",
       " 'msn-sports': 0.0,\n",
       " 'news': 0.0,\n",
       " 'on-air': 0.0,\n",
       " 'opinion': 0.0,\n",
       " 'sports': 0.0,\n",
       " 'summary': 0.0,\n",
       " 'tech': 0.0,\n",
       " 'travel': 0.0,\n",
       " 'weather': 0.0}"
      ]
     },
     "execution_count": 112,
     "metadata": {},
     "output_type": "execute_result"
    }
   ],
   "source": [
    "nx.betweenness_centrality(G)"
   ]
  },
  {
   "cell_type": "code",
   "execution_count": 113,
   "metadata": {},
   "outputs": [
    {
     "data": {
      "text/plain": [
       "{'bbs': 0.0018782060340221552,\n",
       " 'business': 0.09233920257281239,\n",
       " 'frontpage': 0.933321057431501,\n",
       " 'health': 0.037720117095723725,\n",
       " 'living': 0.04780256673655106,\n",
       " 'local': 0.1304093050103966,\n",
       " 'misc': 0.12055332568325554,\n",
       " 'msn-news': 0.039991529399408206,\n",
       " 'msn-sports': 0.01812715653915491,\n",
       " 'news': 0.21550720023014666,\n",
       " 'on-air': 0.08406226647317083,\n",
       " 'opinion': 0.021046191744813994,\n",
       " 'sports': 0.14137687053677783,\n",
       " 'summary': 0.013849055576218535,\n",
       " 'tech': 0.05238695782987897,\n",
       " 'travel': 0.00893955314944579,\n",
       " 'weather': 0.0790567058733306}"
      ]
     },
     "execution_count": 113,
     "metadata": {},
     "output_type": "execute_result"
    }
   ],
   "source": [
    "nx.eigenvector_centrality(G)"
   ]
  },
  {
   "cell_type": "code",
   "execution_count": 114,
   "metadata": {},
   "outputs": [
    {
     "data": {
      "text/plain": [
       "[('living', 'living', {'weight': 30540.0}),\n",
       " ('living', 'health', {'weight': 1619.0}),\n",
       " ('living', 'business', {'weight': 1765.0}),\n",
       " ('living', 'msn-news', {'weight': 1231.0}),\n",
       " ('living', 'bbs', {'weight': 18.0}),\n",
       " ('living', 'travel', {'weight': 1611.0}),\n",
       " ('living', 'misc', {'weight': 643.0}),\n",
       " ('living', 'sports', {'weight': 1300.0}),\n",
       " ('living', 'weather', {'weight': 677.0}),\n",
       " ('living', 'tech', {'weight': 1816.0})]"
      ]
     },
     "execution_count": 114,
     "metadata": {},
     "output_type": "execute_result"
    }
   ],
   "source": [
    "G.edges(data=True)[:10]"
   ]
  },
  {
   "cell_type": "code",
   "execution_count": 115,
   "metadata": {},
   "outputs": [
    {
     "data": {
      "text/plain": [
       "16.0"
      ]
     },
     "execution_count": 115,
     "metadata": {},
     "output_type": "execute_result"
    }
   ],
   "source": [
    "nx.connectivity.average_node_connectivity(G)"
   ]
  },
  {
   "cell_type": "code",
   "execution_count": 116,
   "metadata": {},
   "outputs": [
    {
     "data": {
      "text/plain": [
       "{'bbs': 1.0,\n",
       " 'business': 1.0,\n",
       " 'frontpage': 1.0,\n",
       " 'health': 1.0,\n",
       " 'living': 1.0,\n",
       " 'local': 1.0,\n",
       " 'misc': 1.0,\n",
       " 'msn-news': 1.0,\n",
       " 'msn-sports': 1.0,\n",
       " 'news': 1.0,\n",
       " 'on-air': 1.0,\n",
       " 'opinion': 1.0,\n",
       " 'sports': 1.0,\n",
       " 'summary': 1.0,\n",
       " 'tech': 1.0,\n",
       " 'travel': 1.0,\n",
       " 'weather': 1.0}"
      ]
     },
     "execution_count": 116,
     "metadata": {},
     "output_type": "execute_result"
    }
   ],
   "source": [
    "nx.closeness_centrality(G)"
   ]
  },
  {
   "cell_type": "code",
   "execution_count": 117,
   "metadata": {},
   "outputs": [
    {
     "data": {
      "text/plain": [
       "[['living',\n",
       "  'business',\n",
       "  'msn-news',\n",
       "  'local',\n",
       "  'travel',\n",
       "  'bbs',\n",
       "  'misc',\n",
       "  'sports',\n",
       "  'summary',\n",
       "  'frontpage',\n",
       "  'weather',\n",
       "  'health',\n",
       "  'msn-sports',\n",
       "  'news',\n",
       "  'opinion',\n",
       "  'tech',\n",
       "  'on-air']]"
      ]
     },
     "execution_count": 117,
     "metadata": {},
     "output_type": "execute_result"
    }
   ],
   "source": [
    "list(nx.clique.find_cliques(G))"
   ]
  },
  {
   "cell_type": "code",
   "execution_count": 118,
   "metadata": {},
   "outputs": [
    {
     "data": {
      "text/plain": [
       "{'bbs': 0.006807932645815664,\n",
       " 'business': 0.05448915984549583,\n",
       " 'frontpage': 0.1841684385756045,\n",
       " 'health': 0.030369670693450382,\n",
       " 'living': 0.020425315111847073,\n",
       " 'local': 0.09158061353673108,\n",
       " 'misc': 0.0833460829673811,\n",
       " 'msn-news': 0.0401054688618776,\n",
       " 'msn-sports': 0.04210037907021639,\n",
       " 'news': 0.0963474343023641,\n",
       " 'on-air': 0.06841148193729074,\n",
       " 'opinion': 0.03967421823125348,\n",
       " 'sports': 0.08766641250469052,\n",
       " 'summary': 0.012454180730978405,\n",
       " 'tech': 0.036311940469893465,\n",
       " 'travel': 0.003769151620772956,\n",
       " 'weather': 0.10197211889433672}"
      ]
     },
     "execution_count": 118,
     "metadata": {},
     "output_type": "execute_result"
    }
   ],
   "source": [
    "nx.pagerank(G, alpha=1)"
   ]
  },
  {
   "cell_type": "markdown",
   "metadata": {},
   "source": [
    "## Graph based on Incidence matrix with threshod"
   ]
  },
  {
   "cell_type": "code",
   "execution_count": 119,
   "metadata": {},
   "outputs": [
    {
     "data": {
      "text/plain": [
       "12833.826989619378"
      ]
     },
     "execution_count": 119,
     "metadata": {},
     "output_type": "execute_result"
    }
   ],
   "source": [
    "thres = incidence_matrix.mean()\n",
    "thres"
   ]
  },
  {
   "cell_type": "code",
   "execution_count": 120,
   "metadata": {
    "collapsed": true
   },
   "outputs": [],
   "source": [
    "G = nx.from_numpy_matrix(incidence_matrix>=thres)"
   ]
  },
  {
   "cell_type": "code",
   "execution_count": 121,
   "metadata": {},
   "outputs": [
    {
     "data": {
      "text/plain": [
       "'Name: \\nType: Graph\\nNumber of nodes: 17\\nNumber of edges: 28\\nAverage degree:   3.2941'"
      ]
     },
     "execution_count": 121,
     "metadata": {},
     "output_type": "execute_result"
    }
   ],
   "source": [
    "nx.info(G)"
   ]
  },
  {
   "cell_type": "code",
   "execution_count": 122,
   "metadata": {
    "collapsed": true
   },
   "outputs": [],
   "source": [
    "G = nx.relabel_nodes(G, mapping_original)"
   ]
  },
  {
   "cell_type": "code",
   "execution_count": 123,
   "metadata": {},
   "outputs": [
    {
     "data": {
      "text/plain": [
       "networkx.classes.graph.Graph"
      ]
     },
     "execution_count": 123,
     "metadata": {},
     "output_type": "execute_result"
    }
   ],
   "source": [
    "type(G)"
   ]
  },
  {
   "cell_type": "code",
   "execution_count": 124,
   "metadata": {},
   "outputs": [
    {
     "data": {
      "text/plain": [
       "False"
      ]
     },
     "execution_count": 124,
     "metadata": {},
     "output_type": "execute_result"
    }
   ],
   "source": [
    "G.is_directed()"
   ]
  },
  {
   "cell_type": "code",
   "execution_count": 125,
   "metadata": {
    "collapsed": true
   },
   "outputs": [],
   "source": [
    "deg = G.degree()"
   ]
  },
  {
   "cell_type": "code",
   "execution_count": 126,
   "metadata": {
    "collapsed": true
   },
   "outputs": [],
   "source": [
    "dc = nx.degree_centrality(G)"
   ]
  },
  {
   "cell_type": "code",
   "execution_count": 127,
   "metadata": {
    "collapsed": true
   },
   "outputs": [],
   "source": [
    "bc = nx.betweenness_centrality(G)"
   ]
  },
  {
   "cell_type": "code",
   "execution_count": 128,
   "metadata": {
    "collapsed": true
   },
   "outputs": [],
   "source": [
    "ec=nx.eigenvector_centrality(G)"
   ]
  },
  {
   "cell_type": "code",
   "execution_count": 129,
   "metadata": {
    "collapsed": true
   },
   "outputs": [],
   "source": [
    "cc=nx.closeness_centrality(G)"
   ]
  },
  {
   "cell_type": "code",
   "execution_count": 130,
   "metadata": {},
   "outputs": [
    {
     "data": {
      "text/plain": [
       "[('living', 'living', {'weight': True}),\n",
       " ('living', 'frontpage', {'weight': True}),\n",
       " ('msn-news', 'msn-news', {'weight': True}),\n",
       " ('business', 'frontpage', {'weight': True}),\n",
       " ('business', 'business', {'weight': True}),\n",
       " ('bbs', 'bbs', {'weight': True}),\n",
       " ('misc', 'misc', {'weight': True}),\n",
       " ('misc', 'local', {'weight': True}),\n",
       " ('misc', 'frontpage', {'weight': True}),\n",
       " ('misc', 'on-air', {'weight': True})]"
      ]
     },
     "execution_count": 130,
     "metadata": {},
     "output_type": "execute_result"
    }
   ],
   "source": [
    "G.edges(data=True)[:10]"
   ]
  },
  {
   "cell_type": "code",
   "execution_count": 131,
   "metadata": {},
   "outputs": [
    {
     "data": {
      "text/plain": [
       "[['msn-news'],\n",
       " ['travel'],\n",
       " ['summary'],\n",
       " ['weather'],\n",
       " ['msn-sports', 'sports'],\n",
       " ['opinion'],\n",
       " ['bbs'],\n",
       " ['frontpage', 'living'],\n",
       " ['frontpage', 'business'],\n",
       " ['frontpage', 'misc', 'local'],\n",
       " ['frontpage', 'misc', 'on-air'],\n",
       " ['frontpage', 'sports'],\n",
       " ['frontpage', 'health'],\n",
       " ['frontpage', 'news'],\n",
       " ['frontpage', 'tech']]"
      ]
     },
     "execution_count": 131,
     "metadata": {},
     "output_type": "execute_result"
    }
   ],
   "source": [
    "list(nx.clique.find_cliques(G))"
   ]
  },
  {
   "cell_type": "code",
   "execution_count": 132,
   "metadata": {
    "collapsed": true
   },
   "outputs": [],
   "source": [
    "pr = nx.pagerank(G, alpha=1, max_iter=1000)"
   ]
  },
  {
   "cell_type": "code",
   "execution_count": 133,
   "metadata": {},
   "outputs": [
    {
     "data": {
      "text/plain": [
       "0.20588235294117646"
      ]
     },
     "execution_count": 133,
     "metadata": {},
     "output_type": "execute_result"
    }
   ],
   "source": [
    "nx.density(G)"
   ]
  },
  {
   "cell_type": "code",
   "execution_count": 134,
   "metadata": {
    "collapsed": true
   },
   "outputs": [],
   "source": [
    "tabc = pd.DataFrame()"
   ]
  },
  {
   "cell_type": "code",
   "execution_count": 135,
   "metadata": {},
   "outputs": [
    {
     "data": {
      "text/html": [
       "<div>\n",
       "<style>\n",
       "    .dataframe thead tr:only-child th {\n",
       "        text-align: right;\n",
       "    }\n",
       "\n",
       "    .dataframe thead th {\n",
       "        text-align: left;\n",
       "    }\n",
       "\n",
       "    .dataframe tbody tr th {\n",
       "        vertical-align: top;\n",
       "    }\n",
       "</style>\n",
       "<table border=\"1\" class=\"dataframe\">\n",
       "  <thead>\n",
       "    <tr style=\"text-align: right;\">\n",
       "      <th>pages</th>\n",
       "      <th>bbs</th>\n",
       "      <th>business</th>\n",
       "      <th>frontpage</th>\n",
       "      <th>health</th>\n",
       "      <th>living</th>\n",
       "      <th>local</th>\n",
       "      <th>misc</th>\n",
       "      <th>msn-news</th>\n",
       "      <th>msn-sports</th>\n",
       "      <th>news</th>\n",
       "      <th>on-air</th>\n",
       "      <th>opinion</th>\n",
       "      <th>sports</th>\n",
       "      <th>summary</th>\n",
       "      <th>tech</th>\n",
       "      <th>travel</th>\n",
       "      <th>weather</th>\n",
       "    </tr>\n",
       "  </thead>\n",
       "  <tbody>\n",
       "  </tbody>\n",
       "</table>\n",
       "</div>"
      ],
      "text/plain": [
       "Empty DataFrame\n",
       "Columns: [bbs, business, frontpage, health, living, local, misc, msn-news, msn-sports, news, on-air, opinion, sports, summary, tech, travel, weather]\n",
       "Index: []"
      ]
     },
     "execution_count": 135,
     "metadata": {},
     "output_type": "execute_result"
    }
   ],
   "source": [
    "tabc['pages'] = sorted(G.nodes())\n",
    "tabc = tabc.set_index('pages')\n",
    "tabc.T"
   ]
  },
  {
   "cell_type": "code",
   "execution_count": 136,
   "metadata": {},
   "outputs": [
    {
     "data": {
      "text/html": [
       "<div>\n",
       "<style>\n",
       "    .dataframe thead tr:only-child th {\n",
       "        text-align: right;\n",
       "    }\n",
       "\n",
       "    .dataframe thead th {\n",
       "        text-align: left;\n",
       "    }\n",
       "\n",
       "    .dataframe tbody tr th {\n",
       "        vertical-align: top;\n",
       "    }\n",
       "</style>\n",
       "<table border=\"1\" class=\"dataframe\">\n",
       "  <thead>\n",
       "    <tr style=\"text-align: right;\">\n",
       "      <th></th>\n",
       "      <th>degree_centrality</th>\n",
       "    </tr>\n",
       "    <tr>\n",
       "      <th>pages</th>\n",
       "      <th></th>\n",
       "    </tr>\n",
       "  </thead>\n",
       "  <tbody>\n",
       "    <tr>\n",
       "      <th>bbs</th>\n",
       "      <td>0.1250</td>\n",
       "    </tr>\n",
       "    <tr>\n",
       "      <th>business</th>\n",
       "      <td>0.1875</td>\n",
       "    </tr>\n",
       "    <tr>\n",
       "      <th>frontpage</th>\n",
       "      <td>0.6875</td>\n",
       "    </tr>\n",
       "    <tr>\n",
       "      <th>health</th>\n",
       "      <td>0.1875</td>\n",
       "    </tr>\n",
       "    <tr>\n",
       "      <th>living</th>\n",
       "      <td>0.1875</td>\n",
       "    </tr>\n",
       "    <tr>\n",
       "      <th>local</th>\n",
       "      <td>0.2500</td>\n",
       "    </tr>\n",
       "    <tr>\n",
       "      <th>misc</th>\n",
       "      <td>0.3125</td>\n",
       "    </tr>\n",
       "    <tr>\n",
       "      <th>msn-news</th>\n",
       "      <td>0.1250</td>\n",
       "    </tr>\n",
       "    <tr>\n",
       "      <th>msn-sports</th>\n",
       "      <td>0.1875</td>\n",
       "    </tr>\n",
       "    <tr>\n",
       "      <th>news</th>\n",
       "      <td>0.1875</td>\n",
       "    </tr>\n",
       "    <tr>\n",
       "      <th>on-air</th>\n",
       "      <td>0.2500</td>\n",
       "    </tr>\n",
       "    <tr>\n",
       "      <th>opinion</th>\n",
       "      <td>0.1250</td>\n",
       "    </tr>\n",
       "    <tr>\n",
       "      <th>sports</th>\n",
       "      <td>0.2500</td>\n",
       "    </tr>\n",
       "    <tr>\n",
       "      <th>summary</th>\n",
       "      <td>0.1250</td>\n",
       "    </tr>\n",
       "    <tr>\n",
       "      <th>tech</th>\n",
       "      <td>0.1875</td>\n",
       "    </tr>\n",
       "    <tr>\n",
       "      <th>travel</th>\n",
       "      <td>0.0000</td>\n",
       "    </tr>\n",
       "    <tr>\n",
       "      <th>weather</th>\n",
       "      <td>0.1250</td>\n",
       "    </tr>\n",
       "  </tbody>\n",
       "</table>\n",
       "</div>"
      ],
      "text/plain": [
       "            degree_centrality\n",
       "pages                        \n",
       "bbs                    0.1250\n",
       "business               0.1875\n",
       "frontpage              0.6875\n",
       "health                 0.1875\n",
       "living                 0.1875\n",
       "local                  0.2500\n",
       "misc                   0.3125\n",
       "msn-news               0.1250\n",
       "msn-sports             0.1875\n",
       "news                   0.1875\n",
       "on-air                 0.2500\n",
       "opinion                0.1250\n",
       "sports                 0.2500\n",
       "summary                0.1250\n",
       "tech                   0.1875\n",
       "travel                 0.0000\n",
       "weather                0.1250"
      ]
     },
     "execution_count": 136,
     "metadata": {},
     "output_type": "execute_result"
    }
   ],
   "source": [
    "tabc['degree_centrality']= [dc[i] for i in sorted(dc.keys())]\n",
    "tabc"
   ]
  },
  {
   "cell_type": "code",
   "execution_count": 137,
   "metadata": {},
   "outputs": [
    {
     "data": {
      "text/html": [
       "<div>\n",
       "<style>\n",
       "    .dataframe thead tr:only-child th {\n",
       "        text-align: right;\n",
       "    }\n",
       "\n",
       "    .dataframe thead th {\n",
       "        text-align: left;\n",
       "    }\n",
       "\n",
       "    .dataframe tbody tr th {\n",
       "        vertical-align: top;\n",
       "    }\n",
       "</style>\n",
       "<table border=\"1\" class=\"dataframe\">\n",
       "  <thead>\n",
       "    <tr style=\"text-align: right;\">\n",
       "      <th></th>\n",
       "      <th>degree_centrality</th>\n",
       "      <th>degree</th>\n",
       "    </tr>\n",
       "    <tr>\n",
       "      <th>pages</th>\n",
       "      <th></th>\n",
       "      <th></th>\n",
       "    </tr>\n",
       "  </thead>\n",
       "  <tbody>\n",
       "    <tr>\n",
       "      <th>bbs</th>\n",
       "      <td>0.1250</td>\n",
       "      <td>2</td>\n",
       "    </tr>\n",
       "    <tr>\n",
       "      <th>business</th>\n",
       "      <td>0.1875</td>\n",
       "      <td>3</td>\n",
       "    </tr>\n",
       "    <tr>\n",
       "      <th>frontpage</th>\n",
       "      <td>0.6875</td>\n",
       "      <td>11</td>\n",
       "    </tr>\n",
       "    <tr>\n",
       "      <th>health</th>\n",
       "      <td>0.1875</td>\n",
       "      <td>3</td>\n",
       "    </tr>\n",
       "    <tr>\n",
       "      <th>living</th>\n",
       "      <td>0.1875</td>\n",
       "      <td>3</td>\n",
       "    </tr>\n",
       "    <tr>\n",
       "      <th>local</th>\n",
       "      <td>0.2500</td>\n",
       "      <td>4</td>\n",
       "    </tr>\n",
       "    <tr>\n",
       "      <th>misc</th>\n",
       "      <td>0.3125</td>\n",
       "      <td>5</td>\n",
       "    </tr>\n",
       "    <tr>\n",
       "      <th>msn-news</th>\n",
       "      <td>0.1250</td>\n",
       "      <td>2</td>\n",
       "    </tr>\n",
       "    <tr>\n",
       "      <th>msn-sports</th>\n",
       "      <td>0.1875</td>\n",
       "      <td>3</td>\n",
       "    </tr>\n",
       "    <tr>\n",
       "      <th>news</th>\n",
       "      <td>0.1875</td>\n",
       "      <td>3</td>\n",
       "    </tr>\n",
       "    <tr>\n",
       "      <th>on-air</th>\n",
       "      <td>0.2500</td>\n",
       "      <td>4</td>\n",
       "    </tr>\n",
       "    <tr>\n",
       "      <th>opinion</th>\n",
       "      <td>0.1250</td>\n",
       "      <td>2</td>\n",
       "    </tr>\n",
       "    <tr>\n",
       "      <th>sports</th>\n",
       "      <td>0.2500</td>\n",
       "      <td>4</td>\n",
       "    </tr>\n",
       "    <tr>\n",
       "      <th>summary</th>\n",
       "      <td>0.1250</td>\n",
       "      <td>2</td>\n",
       "    </tr>\n",
       "    <tr>\n",
       "      <th>tech</th>\n",
       "      <td>0.1875</td>\n",
       "      <td>3</td>\n",
       "    </tr>\n",
       "    <tr>\n",
       "      <th>travel</th>\n",
       "      <td>0.0000</td>\n",
       "      <td>0</td>\n",
       "    </tr>\n",
       "    <tr>\n",
       "      <th>weather</th>\n",
       "      <td>0.1250</td>\n",
       "      <td>2</td>\n",
       "    </tr>\n",
       "  </tbody>\n",
       "</table>\n",
       "</div>"
      ],
      "text/plain": [
       "            degree_centrality  degree\n",
       "pages                                \n",
       "bbs                    0.1250       2\n",
       "business               0.1875       3\n",
       "frontpage              0.6875      11\n",
       "health                 0.1875       3\n",
       "living                 0.1875       3\n",
       "local                  0.2500       4\n",
       "misc                   0.3125       5\n",
       "msn-news               0.1250       2\n",
       "msn-sports             0.1875       3\n",
       "news                   0.1875       3\n",
       "on-air                 0.2500       4\n",
       "opinion                0.1250       2\n",
       "sports                 0.2500       4\n",
       "summary                0.1250       2\n",
       "tech                   0.1875       3\n",
       "travel                 0.0000       0\n",
       "weather                0.1250       2"
      ]
     },
     "execution_count": 137,
     "metadata": {},
     "output_type": "execute_result"
    }
   ],
   "source": [
    "tabc['degree']= [deg[i] for i in sorted(deg.keys())]\n",
    "tabc"
   ]
  },
  {
   "cell_type": "code",
   "execution_count": 138,
   "metadata": {},
   "outputs": [
    {
     "data": {
      "text/html": [
       "<div>\n",
       "<style>\n",
       "    .dataframe thead tr:only-child th {\n",
       "        text-align: right;\n",
       "    }\n",
       "\n",
       "    .dataframe thead th {\n",
       "        text-align: left;\n",
       "    }\n",
       "\n",
       "    .dataframe tbody tr th {\n",
       "        vertical-align: top;\n",
       "    }\n",
       "</style>\n",
       "<table border=\"1\" class=\"dataframe\">\n",
       "  <thead>\n",
       "    <tr style=\"text-align: right;\">\n",
       "      <th></th>\n",
       "      <th>degree_centrality</th>\n",
       "      <th>degree</th>\n",
       "      <th>betweeness_centrality</th>\n",
       "    </tr>\n",
       "    <tr>\n",
       "      <th>pages</th>\n",
       "      <th></th>\n",
       "      <th></th>\n",
       "      <th></th>\n",
       "    </tr>\n",
       "  </thead>\n",
       "  <tbody>\n",
       "    <tr>\n",
       "      <th>bbs</th>\n",
       "      <td>0.1250</td>\n",
       "      <td>2</td>\n",
       "      <td>0.000000</td>\n",
       "    </tr>\n",
       "    <tr>\n",
       "      <th>business</th>\n",
       "      <td>0.1875</td>\n",
       "      <td>3</td>\n",
       "      <td>0.000000</td>\n",
       "    </tr>\n",
       "    <tr>\n",
       "      <th>frontpage</th>\n",
       "      <td>0.6875</td>\n",
       "      <td>11</td>\n",
       "      <td>0.345833</td>\n",
       "    </tr>\n",
       "    <tr>\n",
       "      <th>health</th>\n",
       "      <td>0.1875</td>\n",
       "      <td>3</td>\n",
       "      <td>0.000000</td>\n",
       "    </tr>\n",
       "    <tr>\n",
       "      <th>living</th>\n",
       "      <td>0.1875</td>\n",
       "      <td>3</td>\n",
       "      <td>0.000000</td>\n",
       "    </tr>\n",
       "    <tr>\n",
       "      <th>local</th>\n",
       "      <td>0.2500</td>\n",
       "      <td>4</td>\n",
       "      <td>0.000000</td>\n",
       "    </tr>\n",
       "    <tr>\n",
       "      <th>misc</th>\n",
       "      <td>0.3125</td>\n",
       "      <td>5</td>\n",
       "      <td>0.004167</td>\n",
       "    </tr>\n",
       "    <tr>\n",
       "      <th>msn-news</th>\n",
       "      <td>0.1250</td>\n",
       "      <td>2</td>\n",
       "      <td>0.000000</td>\n",
       "    </tr>\n",
       "    <tr>\n",
       "      <th>msn-sports</th>\n",
       "      <td>0.1875</td>\n",
       "      <td>3</td>\n",
       "      <td>0.000000</td>\n",
       "    </tr>\n",
       "    <tr>\n",
       "      <th>news</th>\n",
       "      <td>0.1875</td>\n",
       "      <td>3</td>\n",
       "      <td>0.000000</td>\n",
       "    </tr>\n",
       "    <tr>\n",
       "      <th>on-air</th>\n",
       "      <td>0.2500</td>\n",
       "      <td>4</td>\n",
       "      <td>0.000000</td>\n",
       "    </tr>\n",
       "    <tr>\n",
       "      <th>opinion</th>\n",
       "      <td>0.1250</td>\n",
       "      <td>2</td>\n",
       "      <td>0.000000</td>\n",
       "    </tr>\n",
       "    <tr>\n",
       "      <th>sports</th>\n",
       "      <td>0.2500</td>\n",
       "      <td>4</td>\n",
       "      <td>0.075000</td>\n",
       "    </tr>\n",
       "    <tr>\n",
       "      <th>summary</th>\n",
       "      <td>0.1250</td>\n",
       "      <td>2</td>\n",
       "      <td>0.000000</td>\n",
       "    </tr>\n",
       "    <tr>\n",
       "      <th>tech</th>\n",
       "      <td>0.1875</td>\n",
       "      <td>3</td>\n",
       "      <td>0.000000</td>\n",
       "    </tr>\n",
       "    <tr>\n",
       "      <th>travel</th>\n",
       "      <td>0.0000</td>\n",
       "      <td>0</td>\n",
       "      <td>0.000000</td>\n",
       "    </tr>\n",
       "    <tr>\n",
       "      <th>weather</th>\n",
       "      <td>0.1250</td>\n",
       "      <td>2</td>\n",
       "      <td>0.000000</td>\n",
       "    </tr>\n",
       "  </tbody>\n",
       "</table>\n",
       "</div>"
      ],
      "text/plain": [
       "            degree_centrality  degree  betweeness_centrality\n",
       "pages                                                       \n",
       "bbs                    0.1250       2               0.000000\n",
       "business               0.1875       3               0.000000\n",
       "frontpage              0.6875      11               0.345833\n",
       "health                 0.1875       3               0.000000\n",
       "living                 0.1875       3               0.000000\n",
       "local                  0.2500       4               0.000000\n",
       "misc                   0.3125       5               0.004167\n",
       "msn-news               0.1250       2               0.000000\n",
       "msn-sports             0.1875       3               0.000000\n",
       "news                   0.1875       3               0.000000\n",
       "on-air                 0.2500       4               0.000000\n",
       "opinion                0.1250       2               0.000000\n",
       "sports                 0.2500       4               0.075000\n",
       "summary                0.1250       2               0.000000\n",
       "tech                   0.1875       3               0.000000\n",
       "travel                 0.0000       0               0.000000\n",
       "weather                0.1250       2               0.000000"
      ]
     },
     "execution_count": 138,
     "metadata": {},
     "output_type": "execute_result"
    }
   ],
   "source": [
    "tabc['betweeness_centrality']= [bc[i] for i in sorted(bc.keys())]\n",
    "tabc"
   ]
  },
  {
   "cell_type": "code",
   "execution_count": 139,
   "metadata": {},
   "outputs": [
    {
     "data": {
      "text/html": [
       "<div>\n",
       "<style>\n",
       "    .dataframe thead tr:only-child th {\n",
       "        text-align: right;\n",
       "    }\n",
       "\n",
       "    .dataframe thead th {\n",
       "        text-align: left;\n",
       "    }\n",
       "\n",
       "    .dataframe tbody tr th {\n",
       "        vertical-align: top;\n",
       "    }\n",
       "</style>\n",
       "<table border=\"1\" class=\"dataframe\">\n",
       "  <thead>\n",
       "    <tr style=\"text-align: right;\">\n",
       "      <th></th>\n",
       "      <th>degree_centrality</th>\n",
       "      <th>degree</th>\n",
       "      <th>betweeness_centrality</th>\n",
       "      <th>eigenVector_centrality</th>\n",
       "    </tr>\n",
       "    <tr>\n",
       "      <th>pages</th>\n",
       "      <th></th>\n",
       "      <th></th>\n",
       "      <th></th>\n",
       "      <th></th>\n",
       "    </tr>\n",
       "  </thead>\n",
       "  <tbody>\n",
       "    <tr>\n",
       "      <th>bbs</th>\n",
       "      <td>0.1250</td>\n",
       "      <td>2</td>\n",
       "      <td>0.000000</td>\n",
       "      <td>2.117537e-11</td>\n",
       "    </tr>\n",
       "    <tr>\n",
       "      <th>business</th>\n",
       "      <td>0.1875</td>\n",
       "      <td>3</td>\n",
       "      <td>0.000000</td>\n",
       "      <td>1.950023e-01</td>\n",
       "    </tr>\n",
       "    <tr>\n",
       "      <th>frontpage</th>\n",
       "      <td>0.6875</td>\n",
       "      <td>11</td>\n",
       "      <td>0.345833</td>\n",
       "      <td>6.527321e-01</td>\n",
       "    </tr>\n",
       "    <tr>\n",
       "      <th>health</th>\n",
       "      <td>0.1875</td>\n",
       "      <td>3</td>\n",
       "      <td>0.000000</td>\n",
       "      <td>1.950023e-01</td>\n",
       "    </tr>\n",
       "    <tr>\n",
       "      <th>living</th>\n",
       "      <td>0.1875</td>\n",
       "      <td>3</td>\n",
       "      <td>0.000000</td>\n",
       "      <td>1.950023e-01</td>\n",
       "    </tr>\n",
       "    <tr>\n",
       "      <th>local</th>\n",
       "      <td>0.2500</td>\n",
       "      <td>4</td>\n",
       "      <td>0.000000</td>\n",
       "      <td>3.082870e-01</td>\n",
       "    </tr>\n",
       "    <tr>\n",
       "      <th>misc</th>\n",
       "      <td>0.3125</td>\n",
       "      <td>5</td>\n",
       "      <td>0.004167</td>\n",
       "      <td>3.792012e-01</td>\n",
       "    </tr>\n",
       "    <tr>\n",
       "      <th>msn-news</th>\n",
       "      <td>0.1250</td>\n",
       "      <td>2</td>\n",
       "      <td>0.000000</td>\n",
       "      <td>2.117537e-11</td>\n",
       "    </tr>\n",
       "    <tr>\n",
       "      <th>msn-sports</th>\n",
       "      <td>0.1875</td>\n",
       "      <td>3</td>\n",
       "      <td>0.000000</td>\n",
       "      <td>6.396629e-02</td>\n",
       "    </tr>\n",
       "    <tr>\n",
       "      <th>news</th>\n",
       "      <td>0.1875</td>\n",
       "      <td>3</td>\n",
       "      <td>0.000000</td>\n",
       "      <td>1.950023e-01</td>\n",
       "    </tr>\n",
       "    <tr>\n",
       "      <th>on-air</th>\n",
       "      <td>0.2500</td>\n",
       "      <td>4</td>\n",
       "      <td>0.000000</td>\n",
       "      <td>3.082870e-01</td>\n",
       "    </tr>\n",
       "    <tr>\n",
       "      <th>opinion</th>\n",
       "      <td>0.1250</td>\n",
       "      <td>2</td>\n",
       "      <td>0.000000</td>\n",
       "      <td>2.117537e-11</td>\n",
       "    </tr>\n",
       "    <tr>\n",
       "      <th>sports</th>\n",
       "      <td>0.2500</td>\n",
       "      <td>4</td>\n",
       "      <td>0.075000</td>\n",
       "      <td>2.141128e-01</td>\n",
       "    </tr>\n",
       "    <tr>\n",
       "      <th>summary</th>\n",
       "      <td>0.1250</td>\n",
       "      <td>2</td>\n",
       "      <td>0.000000</td>\n",
       "      <td>2.117537e-11</td>\n",
       "    </tr>\n",
       "    <tr>\n",
       "      <th>tech</th>\n",
       "      <td>0.1875</td>\n",
       "      <td>3</td>\n",
       "      <td>0.000000</td>\n",
       "      <td>1.950023e-01</td>\n",
       "    </tr>\n",
       "    <tr>\n",
       "      <th>travel</th>\n",
       "      <td>0.0000</td>\n",
       "      <td>0</td>\n",
       "      <td>0.000000</td>\n",
       "      <td>0.000000e+00</td>\n",
       "    </tr>\n",
       "    <tr>\n",
       "      <th>weather</th>\n",
       "      <td>0.1250</td>\n",
       "      <td>2</td>\n",
       "      <td>0.000000</td>\n",
       "      <td>2.117537e-11</td>\n",
       "    </tr>\n",
       "  </tbody>\n",
       "</table>\n",
       "</div>"
      ],
      "text/plain": [
       "            degree_centrality  degree  betweeness_centrality  \\\n",
       "pages                                                          \n",
       "bbs                    0.1250       2               0.000000   \n",
       "business               0.1875       3               0.000000   \n",
       "frontpage              0.6875      11               0.345833   \n",
       "health                 0.1875       3               0.000000   \n",
       "living                 0.1875       3               0.000000   \n",
       "local                  0.2500       4               0.000000   \n",
       "misc                   0.3125       5               0.004167   \n",
       "msn-news               0.1250       2               0.000000   \n",
       "msn-sports             0.1875       3               0.000000   \n",
       "news                   0.1875       3               0.000000   \n",
       "on-air                 0.2500       4               0.000000   \n",
       "opinion                0.1250       2               0.000000   \n",
       "sports                 0.2500       4               0.075000   \n",
       "summary                0.1250       2               0.000000   \n",
       "tech                   0.1875       3               0.000000   \n",
       "travel                 0.0000       0               0.000000   \n",
       "weather                0.1250       2               0.000000   \n",
       "\n",
       "            eigenVector_centrality  \n",
       "pages                               \n",
       "bbs                   2.117537e-11  \n",
       "business              1.950023e-01  \n",
       "frontpage             6.527321e-01  \n",
       "health                1.950023e-01  \n",
       "living                1.950023e-01  \n",
       "local                 3.082870e-01  \n",
       "misc                  3.792012e-01  \n",
       "msn-news              2.117537e-11  \n",
       "msn-sports            6.396629e-02  \n",
       "news                  1.950023e-01  \n",
       "on-air                3.082870e-01  \n",
       "opinion               2.117537e-11  \n",
       "sports                2.141128e-01  \n",
       "summary               2.117537e-11  \n",
       "tech                  1.950023e-01  \n",
       "travel                0.000000e+00  \n",
       "weather               2.117537e-11  "
      ]
     },
     "execution_count": 139,
     "metadata": {},
     "output_type": "execute_result"
    }
   ],
   "source": [
    "tabc['eigenVector_centrality']= [ec[i] for i in sorted(ec.keys())]\n",
    "tabc"
   ]
  },
  {
   "cell_type": "code",
   "execution_count": 140,
   "metadata": {},
   "outputs": [
    {
     "data": {
      "text/html": [
       "<div>\n",
       "<style>\n",
       "    .dataframe thead tr:only-child th {\n",
       "        text-align: right;\n",
       "    }\n",
       "\n",
       "    .dataframe thead th {\n",
       "        text-align: left;\n",
       "    }\n",
       "\n",
       "    .dataframe tbody tr th {\n",
       "        vertical-align: top;\n",
       "    }\n",
       "</style>\n",
       "<table border=\"1\" class=\"dataframe\">\n",
       "  <thead>\n",
       "    <tr style=\"text-align: right;\">\n",
       "      <th></th>\n",
       "      <th>degree_centrality</th>\n",
       "      <th>degree</th>\n",
       "      <th>betweeness_centrality</th>\n",
       "      <th>eigenVector_centrality</th>\n",
       "      <th>closeness_centrality</th>\n",
       "    </tr>\n",
       "    <tr>\n",
       "      <th>pages</th>\n",
       "      <th></th>\n",
       "      <th></th>\n",
       "      <th></th>\n",
       "      <th></th>\n",
       "      <th></th>\n",
       "    </tr>\n",
       "  </thead>\n",
       "  <tbody>\n",
       "    <tr>\n",
       "      <th>bbs</th>\n",
       "      <td>0.1250</td>\n",
       "      <td>2</td>\n",
       "      <td>0.000000</td>\n",
       "      <td>2.117537e-11</td>\n",
       "      <td>0.000000</td>\n",
       "    </tr>\n",
       "    <tr>\n",
       "      <th>business</th>\n",
       "      <td>0.1875</td>\n",
       "      <td>3</td>\n",
       "      <td>0.000000</td>\n",
       "      <td>1.950023e-01</td>\n",
       "      <td>0.312500</td>\n",
       "    </tr>\n",
       "    <tr>\n",
       "      <th>frontpage</th>\n",
       "      <td>0.6875</td>\n",
       "      <td>11</td>\n",
       "      <td>0.345833</td>\n",
       "      <td>6.527321e-01</td>\n",
       "      <td>0.568182</td>\n",
       "    </tr>\n",
       "    <tr>\n",
       "      <th>health</th>\n",
       "      <td>0.1875</td>\n",
       "      <td>3</td>\n",
       "      <td>0.000000</td>\n",
       "      <td>1.950023e-01</td>\n",
       "      <td>0.312500</td>\n",
       "    </tr>\n",
       "    <tr>\n",
       "      <th>living</th>\n",
       "      <td>0.1875</td>\n",
       "      <td>3</td>\n",
       "      <td>0.000000</td>\n",
       "      <td>1.950023e-01</td>\n",
       "      <td>0.312500</td>\n",
       "    </tr>\n",
       "    <tr>\n",
       "      <th>local</th>\n",
       "      <td>0.2500</td>\n",
       "      <td>4</td>\n",
       "      <td>0.000000</td>\n",
       "      <td>3.082870e-01</td>\n",
       "      <td>0.328947</td>\n",
       "    </tr>\n",
       "    <tr>\n",
       "      <th>misc</th>\n",
       "      <td>0.3125</td>\n",
       "      <td>5</td>\n",
       "      <td>0.004167</td>\n",
       "      <td>3.792012e-01</td>\n",
       "      <td>0.347222</td>\n",
       "    </tr>\n",
       "    <tr>\n",
       "      <th>msn-news</th>\n",
       "      <td>0.1250</td>\n",
       "      <td>2</td>\n",
       "      <td>0.000000</td>\n",
       "      <td>2.117537e-11</td>\n",
       "      <td>0.000000</td>\n",
       "    </tr>\n",
       "    <tr>\n",
       "      <th>msn-sports</th>\n",
       "      <td>0.1875</td>\n",
       "      <td>3</td>\n",
       "      <td>0.000000</td>\n",
       "      <td>6.396629e-02</td>\n",
       "      <td>0.231481</td>\n",
       "    </tr>\n",
       "    <tr>\n",
       "      <th>news</th>\n",
       "      <td>0.1875</td>\n",
       "      <td>3</td>\n",
       "      <td>0.000000</td>\n",
       "      <td>1.950023e-01</td>\n",
       "      <td>0.312500</td>\n",
       "    </tr>\n",
       "    <tr>\n",
       "      <th>on-air</th>\n",
       "      <td>0.2500</td>\n",
       "      <td>4</td>\n",
       "      <td>0.000000</td>\n",
       "      <td>3.082870e-01</td>\n",
       "      <td>0.328947</td>\n",
       "    </tr>\n",
       "    <tr>\n",
       "      <th>opinion</th>\n",
       "      <td>0.1250</td>\n",
       "      <td>2</td>\n",
       "      <td>0.000000</td>\n",
       "      <td>2.117537e-11</td>\n",
       "      <td>0.000000</td>\n",
       "    </tr>\n",
       "    <tr>\n",
       "      <th>sports</th>\n",
       "      <td>0.2500</td>\n",
       "      <td>4</td>\n",
       "      <td>0.075000</td>\n",
       "      <td>2.141128e-01</td>\n",
       "      <td>0.347222</td>\n",
       "    </tr>\n",
       "    <tr>\n",
       "      <th>summary</th>\n",
       "      <td>0.1250</td>\n",
       "      <td>2</td>\n",
       "      <td>0.000000</td>\n",
       "      <td>2.117537e-11</td>\n",
       "      <td>0.000000</td>\n",
       "    </tr>\n",
       "    <tr>\n",
       "      <th>tech</th>\n",
       "      <td>0.1875</td>\n",
       "      <td>3</td>\n",
       "      <td>0.000000</td>\n",
       "      <td>1.950023e-01</td>\n",
       "      <td>0.312500</td>\n",
       "    </tr>\n",
       "    <tr>\n",
       "      <th>travel</th>\n",
       "      <td>0.0000</td>\n",
       "      <td>0</td>\n",
       "      <td>0.000000</td>\n",
       "      <td>0.000000e+00</td>\n",
       "      <td>0.000000</td>\n",
       "    </tr>\n",
       "    <tr>\n",
       "      <th>weather</th>\n",
       "      <td>0.1250</td>\n",
       "      <td>2</td>\n",
       "      <td>0.000000</td>\n",
       "      <td>2.117537e-11</td>\n",
       "      <td>0.000000</td>\n",
       "    </tr>\n",
       "  </tbody>\n",
       "</table>\n",
       "</div>"
      ],
      "text/plain": [
       "            degree_centrality  degree  betweeness_centrality  \\\n",
       "pages                                                          \n",
       "bbs                    0.1250       2               0.000000   \n",
       "business               0.1875       3               0.000000   \n",
       "frontpage              0.6875      11               0.345833   \n",
       "health                 0.1875       3               0.000000   \n",
       "living                 0.1875       3               0.000000   \n",
       "local                  0.2500       4               0.000000   \n",
       "misc                   0.3125       5               0.004167   \n",
       "msn-news               0.1250       2               0.000000   \n",
       "msn-sports             0.1875       3               0.000000   \n",
       "news                   0.1875       3               0.000000   \n",
       "on-air                 0.2500       4               0.000000   \n",
       "opinion                0.1250       2               0.000000   \n",
       "sports                 0.2500       4               0.075000   \n",
       "summary                0.1250       2               0.000000   \n",
       "tech                   0.1875       3               0.000000   \n",
       "travel                 0.0000       0               0.000000   \n",
       "weather                0.1250       2               0.000000   \n",
       "\n",
       "            eigenVector_centrality  closeness_centrality  \n",
       "pages                                                     \n",
       "bbs                   2.117537e-11              0.000000  \n",
       "business              1.950023e-01              0.312500  \n",
       "frontpage             6.527321e-01              0.568182  \n",
       "health                1.950023e-01              0.312500  \n",
       "living                1.950023e-01              0.312500  \n",
       "local                 3.082870e-01              0.328947  \n",
       "misc                  3.792012e-01              0.347222  \n",
       "msn-news              2.117537e-11              0.000000  \n",
       "msn-sports            6.396629e-02              0.231481  \n",
       "news                  1.950023e-01              0.312500  \n",
       "on-air                3.082870e-01              0.328947  \n",
       "opinion               2.117537e-11              0.000000  \n",
       "sports                2.141128e-01              0.347222  \n",
       "summary               2.117537e-11              0.000000  \n",
       "tech                  1.950023e-01              0.312500  \n",
       "travel                0.000000e+00              0.000000  \n",
       "weather               2.117537e-11              0.000000  "
      ]
     },
     "execution_count": 140,
     "metadata": {},
     "output_type": "execute_result"
    }
   ],
   "source": [
    "tabc['closeness_centrality']= [cc[i] for i in sorted(cc.keys())]\n",
    "tabc"
   ]
  },
  {
   "cell_type": "code",
   "execution_count": 141,
   "metadata": {},
   "outputs": [
    {
     "data": {
      "text/html": [
       "<div>\n",
       "<style>\n",
       "    .dataframe thead tr:only-child th {\n",
       "        text-align: right;\n",
       "    }\n",
       "\n",
       "    .dataframe thead th {\n",
       "        text-align: left;\n",
       "    }\n",
       "\n",
       "    .dataframe tbody tr th {\n",
       "        vertical-align: top;\n",
       "    }\n",
       "</style>\n",
       "<table border=\"1\" class=\"dataframe\">\n",
       "  <thead>\n",
       "    <tr style=\"text-align: right;\">\n",
       "      <th></th>\n",
       "      <th>degree_centrality</th>\n",
       "      <th>degree</th>\n",
       "      <th>betweeness_centrality</th>\n",
       "      <th>eigenVector_centrality</th>\n",
       "      <th>closeness_centrality</th>\n",
       "      <th>page_rank</th>\n",
       "    </tr>\n",
       "    <tr>\n",
       "      <th>pages</th>\n",
       "      <th></th>\n",
       "      <th></th>\n",
       "      <th></th>\n",
       "      <th></th>\n",
       "      <th></th>\n",
       "      <th></th>\n",
       "    </tr>\n",
       "  </thead>\n",
       "  <tbody>\n",
       "    <tr>\n",
       "      <th>bbs</th>\n",
       "      <td>0.1250</td>\n",
       "      <td>2</td>\n",
       "      <td>0.000000</td>\n",
       "      <td>2.117537e-11</td>\n",
       "      <td>0.000000</td>\n",
       "      <td>6.250000e-02</td>\n",
       "    </tr>\n",
       "    <tr>\n",
       "      <th>business</th>\n",
       "      <td>0.1875</td>\n",
       "      <td>3</td>\n",
       "      <td>0.000000</td>\n",
       "      <td>1.950023e-01</td>\n",
       "      <td>0.312500</td>\n",
       "      <td>3.928373e-02</td>\n",
       "    </tr>\n",
       "    <tr>\n",
       "      <th>frontpage</th>\n",
       "      <td>0.6875</td>\n",
       "      <td>11</td>\n",
       "      <td>0.345833</td>\n",
       "      <td>6.527321e-01</td>\n",
       "      <td>0.568182</td>\n",
       "      <td>1.964223e-01</td>\n",
       "    </tr>\n",
       "    <tr>\n",
       "      <th>health</th>\n",
       "      <td>0.1875</td>\n",
       "      <td>3</td>\n",
       "      <td>0.000000</td>\n",
       "      <td>1.950023e-01</td>\n",
       "      <td>0.312500</td>\n",
       "      <td>3.928373e-02</td>\n",
       "    </tr>\n",
       "    <tr>\n",
       "      <th>living</th>\n",
       "      <td>0.1875</td>\n",
       "      <td>3</td>\n",
       "      <td>0.000000</td>\n",
       "      <td>1.950023e-01</td>\n",
       "      <td>0.312500</td>\n",
       "      <td>3.928373e-02</td>\n",
       "    </tr>\n",
       "    <tr>\n",
       "      <th>local</th>\n",
       "      <td>0.2500</td>\n",
       "      <td>4</td>\n",
       "      <td>0.000000</td>\n",
       "      <td>3.082870e-01</td>\n",
       "      <td>0.328947</td>\n",
       "      <td>5.892381e-02</td>\n",
       "    </tr>\n",
       "    <tr>\n",
       "      <th>misc</th>\n",
       "      <td>0.3125</td>\n",
       "      <td>5</td>\n",
       "      <td>0.004167</td>\n",
       "      <td>3.792012e-01</td>\n",
       "      <td>0.347222</td>\n",
       "      <td>7.856473e-02</td>\n",
       "    </tr>\n",
       "    <tr>\n",
       "      <th>msn-news</th>\n",
       "      <td>0.1250</td>\n",
       "      <td>2</td>\n",
       "      <td>0.000000</td>\n",
       "      <td>2.117537e-11</td>\n",
       "      <td>0.000000</td>\n",
       "      <td>6.250000e-02</td>\n",
       "    </tr>\n",
       "    <tr>\n",
       "      <th>msn-sports</th>\n",
       "      <td>0.1875</td>\n",
       "      <td>3</td>\n",
       "      <td>0.000000</td>\n",
       "      <td>6.396629e-02</td>\n",
       "      <td>0.231481</td>\n",
       "      <td>3.930232e-02</td>\n",
       "    </tr>\n",
       "    <tr>\n",
       "      <th>news</th>\n",
       "      <td>0.1875</td>\n",
       "      <td>3</td>\n",
       "      <td>0.000000</td>\n",
       "      <td>1.950023e-01</td>\n",
       "      <td>0.312500</td>\n",
       "      <td>3.928373e-02</td>\n",
       "    </tr>\n",
       "    <tr>\n",
       "      <th>on-air</th>\n",
       "      <td>0.2500</td>\n",
       "      <td>4</td>\n",
       "      <td>0.000000</td>\n",
       "      <td>3.082870e-01</td>\n",
       "      <td>0.328947</td>\n",
       "      <td>5.892381e-02</td>\n",
       "    </tr>\n",
       "    <tr>\n",
       "      <th>opinion</th>\n",
       "      <td>0.1250</td>\n",
       "      <td>2</td>\n",
       "      <td>0.000000</td>\n",
       "      <td>2.117537e-11</td>\n",
       "      <td>0.000000</td>\n",
       "      <td>6.250000e-02</td>\n",
       "    </tr>\n",
       "    <tr>\n",
       "      <th>sports</th>\n",
       "      <td>0.2500</td>\n",
       "      <td>4</td>\n",
       "      <td>0.075000</td>\n",
       "      <td>2.141128e-01</td>\n",
       "      <td>0.347222</td>\n",
       "      <td>5.894441e-02</td>\n",
       "    </tr>\n",
       "    <tr>\n",
       "      <th>summary</th>\n",
       "      <td>0.1250</td>\n",
       "      <td>2</td>\n",
       "      <td>0.000000</td>\n",
       "      <td>2.117537e-11</td>\n",
       "      <td>0.000000</td>\n",
       "      <td>6.250000e-02</td>\n",
       "    </tr>\n",
       "    <tr>\n",
       "      <th>tech</th>\n",
       "      <td>0.1875</td>\n",
       "      <td>3</td>\n",
       "      <td>0.000000</td>\n",
       "      <td>1.950023e-01</td>\n",
       "      <td>0.312500</td>\n",
       "      <td>3.928373e-02</td>\n",
       "    </tr>\n",
       "    <tr>\n",
       "      <th>travel</th>\n",
       "      <td>0.0000</td>\n",
       "      <td>0</td>\n",
       "      <td>0.000000</td>\n",
       "      <td>0.000000e+00</td>\n",
       "      <td>0.000000</td>\n",
       "      <td>1.461291e-42</td>\n",
       "    </tr>\n",
       "    <tr>\n",
       "      <th>weather</th>\n",
       "      <td>0.1250</td>\n",
       "      <td>2</td>\n",
       "      <td>0.000000</td>\n",
       "      <td>2.117537e-11</td>\n",
       "      <td>0.000000</td>\n",
       "      <td>6.250000e-02</td>\n",
       "    </tr>\n",
       "  </tbody>\n",
       "</table>\n",
       "</div>"
      ],
      "text/plain": [
       "            degree_centrality  degree  betweeness_centrality  \\\n",
       "pages                                                          \n",
       "bbs                    0.1250       2               0.000000   \n",
       "business               0.1875       3               0.000000   \n",
       "frontpage              0.6875      11               0.345833   \n",
       "health                 0.1875       3               0.000000   \n",
       "living                 0.1875       3               0.000000   \n",
       "local                  0.2500       4               0.000000   \n",
       "misc                   0.3125       5               0.004167   \n",
       "msn-news               0.1250       2               0.000000   \n",
       "msn-sports             0.1875       3               0.000000   \n",
       "news                   0.1875       3               0.000000   \n",
       "on-air                 0.2500       4               0.000000   \n",
       "opinion                0.1250       2               0.000000   \n",
       "sports                 0.2500       4               0.075000   \n",
       "summary                0.1250       2               0.000000   \n",
       "tech                   0.1875       3               0.000000   \n",
       "travel                 0.0000       0               0.000000   \n",
       "weather                0.1250       2               0.000000   \n",
       "\n",
       "            eigenVector_centrality  closeness_centrality     page_rank  \n",
       "pages                                                                   \n",
       "bbs                   2.117537e-11              0.000000  6.250000e-02  \n",
       "business              1.950023e-01              0.312500  3.928373e-02  \n",
       "frontpage             6.527321e-01              0.568182  1.964223e-01  \n",
       "health                1.950023e-01              0.312500  3.928373e-02  \n",
       "living                1.950023e-01              0.312500  3.928373e-02  \n",
       "local                 3.082870e-01              0.328947  5.892381e-02  \n",
       "misc                  3.792012e-01              0.347222  7.856473e-02  \n",
       "msn-news              2.117537e-11              0.000000  6.250000e-02  \n",
       "msn-sports            6.396629e-02              0.231481  3.930232e-02  \n",
       "news                  1.950023e-01              0.312500  3.928373e-02  \n",
       "on-air                3.082870e-01              0.328947  5.892381e-02  \n",
       "opinion               2.117537e-11              0.000000  6.250000e-02  \n",
       "sports                2.141128e-01              0.347222  5.894441e-02  \n",
       "summary               2.117537e-11              0.000000  6.250000e-02  \n",
       "tech                  1.950023e-01              0.312500  3.928373e-02  \n",
       "travel                0.000000e+00              0.000000  1.461291e-42  \n",
       "weather               2.117537e-11              0.000000  6.250000e-02  "
      ]
     },
     "execution_count": 141,
     "metadata": {},
     "output_type": "execute_result"
    }
   ],
   "source": [
    "tabc['page_rank']= [pr[i] for i in sorted(pr.keys())]\n",
    "tabc"
   ]
  },
  {
   "cell_type": "code",
   "execution_count": 142,
   "metadata": {
    "collapsed": true
   },
   "outputs": [],
   "source": [
    "tabc.to_csv(\"Graph_metrics.csv\")\n",
    "tabc.describe().to_csv(\"Graph_metrics_desc.csv\")"
   ]
  },
  {
   "cell_type": "code",
   "execution_count": 143,
   "metadata": {},
   "outputs": [
    {
     "data": {
      "text/html": [
       "<div>\n",
       "<style>\n",
       "    .dataframe thead tr:only-child th {\n",
       "        text-align: right;\n",
       "    }\n",
       "\n",
       "    .dataframe thead th {\n",
       "        text-align: left;\n",
       "    }\n",
       "\n",
       "    .dataframe tbody tr th {\n",
       "        vertical-align: top;\n",
       "    }\n",
       "</style>\n",
       "<table border=\"1\" class=\"dataframe\">\n",
       "  <thead>\n",
       "    <tr style=\"text-align: right;\">\n",
       "      <th>pages</th>\n",
       "      <th>bbs</th>\n",
       "      <th>business</th>\n",
       "      <th>frontpage</th>\n",
       "      <th>health</th>\n",
       "      <th>living</th>\n",
       "      <th>local</th>\n",
       "      <th>misc</th>\n",
       "      <th>msn-news</th>\n",
       "      <th>msn-sports</th>\n",
       "      <th>news</th>\n",
       "      <th>on-air</th>\n",
       "      <th>opinion</th>\n",
       "      <th>sports</th>\n",
       "      <th>summary</th>\n",
       "      <th>tech</th>\n",
       "      <th>travel</th>\n",
       "      <th>weather</th>\n",
       "    </tr>\n",
       "  </thead>\n",
       "  <tbody>\n",
       "    <tr>\n",
       "      <th>degree_centrality</th>\n",
       "      <td>1.250000e-01</td>\n",
       "      <td>0.187500</td>\n",
       "      <td>0.687500</td>\n",
       "      <td>0.187500</td>\n",
       "      <td>0.187500</td>\n",
       "      <td>0.250000</td>\n",
       "      <td>0.312500</td>\n",
       "      <td>1.250000e-01</td>\n",
       "      <td>0.187500</td>\n",
       "      <td>0.187500</td>\n",
       "      <td>0.250000</td>\n",
       "      <td>1.250000e-01</td>\n",
       "      <td>0.250000</td>\n",
       "      <td>1.250000e-01</td>\n",
       "      <td>0.187500</td>\n",
       "      <td>0.000000e+00</td>\n",
       "      <td>1.250000e-01</td>\n",
       "    </tr>\n",
       "    <tr>\n",
       "      <th>degree</th>\n",
       "      <td>2.000000e+00</td>\n",
       "      <td>3.000000</td>\n",
       "      <td>11.000000</td>\n",
       "      <td>3.000000</td>\n",
       "      <td>3.000000</td>\n",
       "      <td>4.000000</td>\n",
       "      <td>5.000000</td>\n",
       "      <td>2.000000e+00</td>\n",
       "      <td>3.000000</td>\n",
       "      <td>3.000000</td>\n",
       "      <td>4.000000</td>\n",
       "      <td>2.000000e+00</td>\n",
       "      <td>4.000000</td>\n",
       "      <td>2.000000e+00</td>\n",
       "      <td>3.000000</td>\n",
       "      <td>0.000000e+00</td>\n",
       "      <td>2.000000e+00</td>\n",
       "    </tr>\n",
       "    <tr>\n",
       "      <th>betweeness_centrality</th>\n",
       "      <td>0.000000e+00</td>\n",
       "      <td>0.000000</td>\n",
       "      <td>0.345833</td>\n",
       "      <td>0.000000</td>\n",
       "      <td>0.000000</td>\n",
       "      <td>0.000000</td>\n",
       "      <td>0.004167</td>\n",
       "      <td>0.000000e+00</td>\n",
       "      <td>0.000000</td>\n",
       "      <td>0.000000</td>\n",
       "      <td>0.000000</td>\n",
       "      <td>0.000000e+00</td>\n",
       "      <td>0.075000</td>\n",
       "      <td>0.000000e+00</td>\n",
       "      <td>0.000000</td>\n",
       "      <td>0.000000e+00</td>\n",
       "      <td>0.000000e+00</td>\n",
       "    </tr>\n",
       "    <tr>\n",
       "      <th>eigenVector_centrality</th>\n",
       "      <td>2.117537e-11</td>\n",
       "      <td>0.195002</td>\n",
       "      <td>0.652732</td>\n",
       "      <td>0.195002</td>\n",
       "      <td>0.195002</td>\n",
       "      <td>0.308287</td>\n",
       "      <td>0.379201</td>\n",
       "      <td>2.117537e-11</td>\n",
       "      <td>0.063966</td>\n",
       "      <td>0.195002</td>\n",
       "      <td>0.308287</td>\n",
       "      <td>2.117537e-11</td>\n",
       "      <td>0.214113</td>\n",
       "      <td>2.117537e-11</td>\n",
       "      <td>0.195002</td>\n",
       "      <td>0.000000e+00</td>\n",
       "      <td>2.117537e-11</td>\n",
       "    </tr>\n",
       "    <tr>\n",
       "      <th>closeness_centrality</th>\n",
       "      <td>0.000000e+00</td>\n",
       "      <td>0.312500</td>\n",
       "      <td>0.568182</td>\n",
       "      <td>0.312500</td>\n",
       "      <td>0.312500</td>\n",
       "      <td>0.328947</td>\n",
       "      <td>0.347222</td>\n",
       "      <td>0.000000e+00</td>\n",
       "      <td>0.231481</td>\n",
       "      <td>0.312500</td>\n",
       "      <td>0.328947</td>\n",
       "      <td>0.000000e+00</td>\n",
       "      <td>0.347222</td>\n",
       "      <td>0.000000e+00</td>\n",
       "      <td>0.312500</td>\n",
       "      <td>0.000000e+00</td>\n",
       "      <td>0.000000e+00</td>\n",
       "    </tr>\n",
       "    <tr>\n",
       "      <th>page_rank</th>\n",
       "      <td>6.250000e-02</td>\n",
       "      <td>0.039284</td>\n",
       "      <td>0.196422</td>\n",
       "      <td>0.039284</td>\n",
       "      <td>0.039284</td>\n",
       "      <td>0.058924</td>\n",
       "      <td>0.078565</td>\n",
       "      <td>6.250000e-02</td>\n",
       "      <td>0.039302</td>\n",
       "      <td>0.039284</td>\n",
       "      <td>0.058924</td>\n",
       "      <td>6.250000e-02</td>\n",
       "      <td>0.058944</td>\n",
       "      <td>6.250000e-02</td>\n",
       "      <td>0.039284</td>\n",
       "      <td>1.461291e-42</td>\n",
       "      <td>6.250000e-02</td>\n",
       "    </tr>\n",
       "  </tbody>\n",
       "</table>\n",
       "</div>"
      ],
      "text/plain": [
       "pages                            bbs  business  frontpage    health    living  \\\n",
       "degree_centrality       1.250000e-01  0.187500   0.687500  0.187500  0.187500   \n",
       "degree                  2.000000e+00  3.000000  11.000000  3.000000  3.000000   \n",
       "betweeness_centrality   0.000000e+00  0.000000   0.345833  0.000000  0.000000   \n",
       "eigenVector_centrality  2.117537e-11  0.195002   0.652732  0.195002  0.195002   \n",
       "closeness_centrality    0.000000e+00  0.312500   0.568182  0.312500  0.312500   \n",
       "page_rank               6.250000e-02  0.039284   0.196422  0.039284  0.039284   \n",
       "\n",
       "pages                      local      misc      msn-news  msn-sports  \\\n",
       "degree_centrality       0.250000  0.312500  1.250000e-01    0.187500   \n",
       "degree                  4.000000  5.000000  2.000000e+00    3.000000   \n",
       "betweeness_centrality   0.000000  0.004167  0.000000e+00    0.000000   \n",
       "eigenVector_centrality  0.308287  0.379201  2.117537e-11    0.063966   \n",
       "closeness_centrality    0.328947  0.347222  0.000000e+00    0.231481   \n",
       "page_rank               0.058924  0.078565  6.250000e-02    0.039302   \n",
       "\n",
       "pages                       news    on-air       opinion    sports  \\\n",
       "degree_centrality       0.187500  0.250000  1.250000e-01  0.250000   \n",
       "degree                  3.000000  4.000000  2.000000e+00  4.000000   \n",
       "betweeness_centrality   0.000000  0.000000  0.000000e+00  0.075000   \n",
       "eigenVector_centrality  0.195002  0.308287  2.117537e-11  0.214113   \n",
       "closeness_centrality    0.312500  0.328947  0.000000e+00  0.347222   \n",
       "page_rank               0.039284  0.058924  6.250000e-02  0.058944   \n",
       "\n",
       "pages                        summary      tech        travel       weather  \n",
       "degree_centrality       1.250000e-01  0.187500  0.000000e+00  1.250000e-01  \n",
       "degree                  2.000000e+00  3.000000  0.000000e+00  2.000000e+00  \n",
       "betweeness_centrality   0.000000e+00  0.000000  0.000000e+00  0.000000e+00  \n",
       "eigenVector_centrality  2.117537e-11  0.195002  0.000000e+00  2.117537e-11  \n",
       "closeness_centrality    0.000000e+00  0.312500  0.000000e+00  0.000000e+00  \n",
       "page_rank               6.250000e-02  0.039284  1.461291e-42  6.250000e-02  "
      ]
     },
     "execution_count": 143,
     "metadata": {},
     "output_type": "execute_result"
    }
   ],
   "source": [
    "tabc.T"
   ]
  },
  {
   "cell_type": "code",
   "execution_count": 144,
   "metadata": {},
   "outputs": [
    {
     "data": {
      "text/plain": [
       "['misc',\n",
       " 'weather',\n",
       " 'msn-sports',\n",
       " 'living',\n",
       " 'travel',\n",
       " 'sports',\n",
       " 'health',\n",
       " 'bbs',\n",
       " 'business',\n",
       " 'news',\n",
       " 'msn-news',\n",
       " 'local',\n",
       " 'summary',\n",
       " 'tech',\n",
       " 'opinion',\n",
       " 'frontpage',\n",
       " 'on-air']"
      ]
     },
     "execution_count": 144,
     "metadata": {},
     "output_type": "execute_result"
    }
   ],
   "source": [
    "G.nodes()"
   ]
  },
  {
   "cell_type": "markdown",
   "metadata": {},
   "source": [
    "## For Finding the suggestion Triads"
   ]
  },
  {
   "cell_type": "code",
   "execution_count": 145,
   "metadata": {},
   "outputs": [],
   "source": [
    "def get_recommendation(pair, data):\n",
    "    '''Find the most common triad for the given pair of pages, return as a list of values'''\n",
    "    most_occured_page=[]\n",
    "    occured_page=[]\n",
    "    for line in data:\n",
    "        if len(line)>=3:\n",
    "            #print line\n",
    "            length= len(line)\n",
    "            for i in range(length):\n",
    "                if i < length-2:\n",
    "                    tmp = (line[i], line[i+1], line[i+2])\n",
    "                    #print 'tmp', tmp, pair, set(tmp).intersection(set(pair))\n",
    "                    if pair[0]==tmp[0] and pair[1]==tmp[1]:\n",
    "                        #print pair, '-', tmp\n",
    "                        most_occured_page.append(tmp[-1])\n",
    "                        occured_page.append(tmp)    \n",
    "    rec = Counter(occured_page)\n",
    "    return rec.most_common()"
   ]
  },
  {
   "cell_type": "code",
   "execution_count": 146,
   "metadata": {},
   "outputs": [
    {
     "data": {
      "text/plain": [
       "[(('6', '5', '5'), 1172),\n",
       " (('6', '5', '6'), 323),\n",
       " (('6', '5', '8'), 234),\n",
       " (('6', '5', '2'), 164),\n",
       " (('6', '5', '1'), 113),\n",
       " (('6', '5', '11'), 67),\n",
       " (('6', '5', '15'), 65),\n",
       " (('6', '5', '10'), 61),\n",
       " (('6', '5', '16'), 42),\n",
       " (('6', '5', '7'), 40),\n",
       " (('6', '5', '3'), 35),\n",
       " (('6', '5', '12'), 32),\n",
       " (('6', '5', '14'), 23),\n",
       " (('6', '5', '4'), 21),\n",
       " (('6', '5', '9'), 13),\n",
       " (('6', '5', '17'), 6),\n",
       " (('6', '5', '13'), 2)]"
      ]
     },
     "execution_count": 146,
     "metadata": {},
     "output_type": "execute_result"
    }
   ],
   "source": [
    "pair =('6', '5')\n",
    "get_recommendation(pair, data2)"
   ]
  },
  {
   "cell_type": "code",
   "execution_count": 147,
   "metadata": {},
   "outputs": [
    {
     "data": {
      "text/plain": [
       "[(('2', '5', '5'), 1328),\n",
       " (('2', '5', '2'), 469),\n",
       " (('2', '5', '6'), 172),\n",
       " (('2', '5', '1'), 160),\n",
       " (('2', '5', '3'), 62),\n",
       " (('2', '5', '15'), 62),\n",
       " (('2', '5', '12'), 53),\n",
       " (('2', '5', '8'), 49),\n",
       " (('2', '5', '11'), 48),\n",
       " (('2', '5', '10'), 47),\n",
       " (('2', '5', '14'), 35),\n",
       " (('2', '5', '4'), 33),\n",
       " (('2', '5', '7'), 20),\n",
       " (('2', '5', '9'), 17),\n",
       " (('2', '5', '17'), 7),\n",
       " (('2', '5', '16'), 6),\n",
       " (('2', '5', '13'), 4)]"
      ]
     },
     "execution_count": 147,
     "metadata": {},
     "output_type": "execute_result"
    }
   ],
   "source": [
    "pair = (\"2\", \"5\")\n",
    "get_recommendation(pair, data2)"
   ]
  },
  {
   "cell_type": "code",
   "execution_count": 148,
   "metadata": {
    "collapsed": true
   },
   "outputs": [],
   "source": [
    "pd.DataFrame(get_recommendation((\"2\", \"5\"), data2)).to_csv(\"Recommend.csv\")"
   ]
  }
 ],
 "metadata": {
  "kernelspec": {
   "display_name": "Python 2",
   "language": "python",
   "name": "python2"
  },
  "language_info": {
   "codemirror_mode": {
    "name": "ipython",
    "version": 2
   },
   "file_extension": ".py",
   "mimetype": "text/x-python",
   "name": "python",
   "nbconvert_exporter": "python",
   "pygments_lexer": "ipython2",
   "version": "2.7.13"
  }
 },
 "nbformat": 4,
 "nbformat_minor": 2
}
